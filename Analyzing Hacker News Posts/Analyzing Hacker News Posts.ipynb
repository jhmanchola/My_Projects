{
 "cells": [
  {
   "cell_type": "markdown",
   "metadata": {},
   "source": [
    "# Analyzing Hacker News.com Posts\n",
    "This small project analyzes the activity in the comments section of posts taken from the [Hacker News](https://news.ycombinator.com/) website. The dataset used here however was downloaded from [kaggle.com](https://www.kaggle.com/hacker-news/hacker-news-posts). This dataset gathers posts from the year 2016, up to September 26 of that year. It organizes the data in seven columns, described as follows:\n",
    "\n",
    "- 'title': title of the post (self explanatory)\n",
    "\n",
    "- 'url': the url of the item being linked to\n",
    "\n",
    "- 'num_points': the number of upvotes the post received\n",
    "\n",
    "- 'num_comments': the number of comments the post received\n",
    "\n",
    "- 'author': the name of the account that made the post\n",
    "\n",
    "- 'created_at': the date and time the post was made (the time zone is Eastern Time in the US)"
   ]
  },
  {
   "cell_type": "code",
   "execution_count": 1,
   "metadata": {},
   "outputs": [
    {
     "name": "stdout",
     "output_type": "stream",
     "text": [
      "(293119, 7)\n"
     ]
    },
    {
     "data": {
      "text/html": [
       "<div>\n",
       "<style scoped>\n",
       "    .dataframe tbody tr th:only-of-type {\n",
       "        vertical-align: middle;\n",
       "    }\n",
       "\n",
       "    .dataframe tbody tr th {\n",
       "        vertical-align: top;\n",
       "    }\n",
       "\n",
       "    .dataframe thead th {\n",
       "        text-align: right;\n",
       "    }\n",
       "</style>\n",
       "<table border=\"1\" class=\"dataframe\">\n",
       "  <thead>\n",
       "    <tr style=\"text-align: right;\">\n",
       "      <th></th>\n",
       "      <th>id</th>\n",
       "      <th>title</th>\n",
       "      <th>url</th>\n",
       "      <th>num_points</th>\n",
       "      <th>num_comments</th>\n",
       "      <th>author</th>\n",
       "      <th>created_at</th>\n",
       "    </tr>\n",
       "  </thead>\n",
       "  <tbody>\n",
       "    <tr>\n",
       "      <th>0</th>\n",
       "      <td>12579008</td>\n",
       "      <td>You have two days to comment if you want stem ...</td>\n",
       "      <td>http://www.regulations.gov/document?D=FDA-2015...</td>\n",
       "      <td>1</td>\n",
       "      <td>0</td>\n",
       "      <td>altstar</td>\n",
       "      <td>9/26/2016 3:26</td>\n",
       "    </tr>\n",
       "    <tr>\n",
       "      <th>1</th>\n",
       "      <td>12579005</td>\n",
       "      <td>SQLAR  the SQLite Archiver</td>\n",
       "      <td>https://www.sqlite.org/sqlar/doc/trunk/README.md</td>\n",
       "      <td>1</td>\n",
       "      <td>0</td>\n",
       "      <td>blacksqr</td>\n",
       "      <td>9/26/2016 3:24</td>\n",
       "    </tr>\n",
       "    <tr>\n",
       "      <th>2</th>\n",
       "      <td>12578997</td>\n",
       "      <td>What if we just printed a flatscreen televisio...</td>\n",
       "      <td>https://medium.com/vanmoof/our-secrets-out-f21...</td>\n",
       "      <td>1</td>\n",
       "      <td>0</td>\n",
       "      <td>pavel_lishin</td>\n",
       "      <td>9/26/2016 3:19</td>\n",
       "    </tr>\n",
       "    <tr>\n",
       "      <th>3</th>\n",
       "      <td>12578989</td>\n",
       "      <td>algorithmic music</td>\n",
       "      <td>http://cacm.acm.org/magazines/2011/7/109891-al...</td>\n",
       "      <td>1</td>\n",
       "      <td>0</td>\n",
       "      <td>poindontcare</td>\n",
       "      <td>9/26/2016 3:16</td>\n",
       "    </tr>\n",
       "    <tr>\n",
       "      <th>4</th>\n",
       "      <td>12578979</td>\n",
       "      <td>How the Data Vault Enables the Next-Gen Data W...</td>\n",
       "      <td>https://www.talend.com/blog/2016/05/12/talend-...</td>\n",
       "      <td>1</td>\n",
       "      <td>0</td>\n",
       "      <td>markgainor1</td>\n",
       "      <td>9/26/2016 3:14</td>\n",
       "    </tr>\n",
       "  </tbody>\n",
       "</table>\n",
       "</div>"
      ],
      "text/plain": [
       "         id                                              title  \\\n",
       "0  12579008  You have two days to comment if you want stem ...   \n",
       "1  12579005                         SQLAR  the SQLite Archiver   \n",
       "2  12578997  What if we just printed a flatscreen televisio...   \n",
       "3  12578989                                  algorithmic music   \n",
       "4  12578979  How the Data Vault Enables the Next-Gen Data W...   \n",
       "\n",
       "                                                 url  num_points  \\\n",
       "0  http://www.regulations.gov/document?D=FDA-2015...           1   \n",
       "1   https://www.sqlite.org/sqlar/doc/trunk/README.md           1   \n",
       "2  https://medium.com/vanmoof/our-secrets-out-f21...           1   \n",
       "3  http://cacm.acm.org/magazines/2011/7/109891-al...           1   \n",
       "4  https://www.talend.com/blog/2016/05/12/talend-...           1   \n",
       "\n",
       "   num_comments        author      created_at  \n",
       "0             0       altstar  9/26/2016 3:26  \n",
       "1             0      blacksqr  9/26/2016 3:24  \n",
       "2             0  pavel_lishin  9/26/2016 3:19  \n",
       "3             0  poindontcare  9/26/2016 3:16  \n",
       "4             0   markgainor1  9/26/2016 3:14  "
      ]
     },
     "execution_count": 1,
     "metadata": {},
     "output_type": "execute_result"
    }
   ],
   "source": [
    "import pandas as pd\n",
    "import datetime as dt\n",
    "\n",
    "df = pd.read_csv('HN_posts_year_to_Sep_26_2016.csv')\n",
    "print(df.shape)\n",
    "df.head()"
   ]
  },
  {
   "cell_type": "markdown",
   "metadata": {},
   "source": [
    "## Choosing a path to explore:\n",
    "\n",
    "Looking through the dataset, two post 'categories' stand out: posts that start with an 'Ask HN' string and posts that start with an 'Show HN' string. 'Ask HN' stands for 'Ask Hacker News', and this are posts from users who are looking for an answer to a specific problem they might have by asking the Hacker News community. 'Show HN' are posts from users who want to promote their work. "
   ]
  },
  {
   "cell_type": "code",
   "execution_count": 2,
   "metadata": {
    "scrolled": true
   },
   "outputs": [
    {
     "name": "stdout",
     "output_type": "stream",
     "text": [
      "(19297, 7)\n"
     ]
    },
    {
     "data": {
      "text/html": [
       "<div>\n",
       "<style scoped>\n",
       "    .dataframe tbody tr th:only-of-type {\n",
       "        vertical-align: middle;\n",
       "    }\n",
       "\n",
       "    .dataframe tbody tr th {\n",
       "        vertical-align: top;\n",
       "    }\n",
       "\n",
       "    .dataframe thead th {\n",
       "        text-align: right;\n",
       "    }\n",
       "</style>\n",
       "<table border=\"1\" class=\"dataframe\">\n",
       "  <thead>\n",
       "    <tr style=\"text-align: right;\">\n",
       "      <th></th>\n",
       "      <th>id</th>\n",
       "      <th>title</th>\n",
       "      <th>url</th>\n",
       "      <th>num_points</th>\n",
       "      <th>num_comments</th>\n",
       "      <th>author</th>\n",
       "      <th>created_at</th>\n",
       "    </tr>\n",
       "  </thead>\n",
       "  <tbody>\n",
       "    <tr>\n",
       "      <th>10</th>\n",
       "      <td>12578908</td>\n",
       "      <td>Ask HN: What TLD do you use for local developm...</td>\n",
       "      <td>NaN</td>\n",
       "      <td>4</td>\n",
       "      <td>7</td>\n",
       "      <td>Sevrene</td>\n",
       "      <td>9/26/2016 2:53</td>\n",
       "    </tr>\n",
       "    <tr>\n",
       "      <th>42</th>\n",
       "      <td>12578522</td>\n",
       "      <td>Ask HN: How do you pass on your work when you ...</td>\n",
       "      <td>NaN</td>\n",
       "      <td>6</td>\n",
       "      <td>3</td>\n",
       "      <td>PascLeRasc</td>\n",
       "      <td>9/26/2016 1:17</td>\n",
       "    </tr>\n",
       "    <tr>\n",
       "      <th>52</th>\n",
       "      <td>12578335</td>\n",
       "      <td>Show HN: Finding puns computationally</td>\n",
       "      <td>http://puns.samueltaylor.org/</td>\n",
       "      <td>2</td>\n",
       "      <td>0</td>\n",
       "      <td>saamm</td>\n",
       "      <td>9/26/2016 0:36</td>\n",
       "    </tr>\n",
       "    <tr>\n",
       "      <th>58</th>\n",
       "      <td>12578182</td>\n",
       "      <td>Show HN: A simple library for complicated anim...</td>\n",
       "      <td>https://christinecha.github.io/choreographer-js/</td>\n",
       "      <td>1</td>\n",
       "      <td>0</td>\n",
       "      <td>christinecha</td>\n",
       "      <td>9/26/2016 0:01</td>\n",
       "    </tr>\n",
       "    <tr>\n",
       "      <th>64</th>\n",
       "      <td>12578098</td>\n",
       "      <td>Show HN: WebGL visualization of DNA sequences</td>\n",
       "      <td>http://grondilu.github.io/dna.html</td>\n",
       "      <td>1</td>\n",
       "      <td>0</td>\n",
       "      <td>grondilu</td>\n",
       "      <td>9/25/2016 23:44</td>\n",
       "    </tr>\n",
       "  </tbody>\n",
       "</table>\n",
       "</div>"
      ],
      "text/plain": [
       "          id                                              title  \\\n",
       "10  12578908  Ask HN: What TLD do you use for local developm...   \n",
       "42  12578522  Ask HN: How do you pass on your work when you ...   \n",
       "52  12578335              Show HN: Finding puns computationally   \n",
       "58  12578182  Show HN: A simple library for complicated anim...   \n",
       "64  12578098      Show HN: WebGL visualization of DNA sequences   \n",
       "\n",
       "                                                 url  num_points  \\\n",
       "10                                               NaN           4   \n",
       "42                                               NaN           6   \n",
       "52                     http://puns.samueltaylor.org/           2   \n",
       "58  https://christinecha.github.io/choreographer-js/           1   \n",
       "64                http://grondilu.github.io/dna.html           1   \n",
       "\n",
       "    num_comments        author       created_at  \n",
       "10             7       Sevrene   9/26/2016 2:53  \n",
       "42             3    PascLeRasc   9/26/2016 1:17  \n",
       "52             0         saamm   9/26/2016 0:36  \n",
       "58             0  christinecha   9/26/2016 0:01  \n",
       "64             0      grondilu  9/25/2016 23:44  "
      ]
     },
     "execution_count": 2,
     "metadata": {},
     "output_type": "execute_result"
    }
   ],
   "source": [
    "#Filter 'ask hn' and 'show hn' posts\n",
    "#'ask hn' are questions from users, 'show hn' are projects being posted\n",
    "ask_posts = df['title'].str.lower().str.startswith('ask hn')\n",
    "show_posts = df['title'].str.lower().str.startswith('show hn')\n",
    "ask_show_df = df[ask_posts | show_posts ]\n",
    "print(ask_show_df.shape)\n",
    "ask_show_df.head()"
   ]
  },
  {
   "cell_type": "code",
   "execution_count": 3,
   "metadata": {},
   "outputs": [
    {
     "name": "stdout",
     "output_type": "stream",
     "text": [
      "Average comments:\n",
      "\n",
      " Category\n",
      "Ask HN     10.393478\n",
      "Show HN     4.886100\n",
      "Name: num_comments, dtype: float64\n"
     ]
    }
   ],
   "source": [
    "#Create a new column named 'Category' which labels posts as Ask HN or Show HN\n",
    "#Create dataframe of Ask HN only posts with the new column:\n",
    "ask_df = ask_show_df[ask_show_df['title']\n",
    "                             .str.lower()\n",
    "                             .str.startswith('ask hn')].assign(Category='Ask HN')\n",
    "#Create dataframe of Show HN only posts with the new column:\n",
    "show_df = ask_show_df[ask_show_df['title']\n",
    "                             .str.lower()\n",
    "                             .str.startswith('show hn')].assign(Category='Show HN')\n",
    "#Join the two dataframes\n",
    "categorized_df = ask_df.append(show_df)\n",
    "#Group by Category and produce mean:\n",
    "mean = categorized_df.groupby('Category').mean()\n",
    "print('Average comments:\\n\\n',mean['num_comments'])"
   ]
  },
  {
   "cell_type": "code",
   "execution_count": 4,
   "metadata": {},
   "outputs": [],
   "source": [
    "#From here on plots will be created to help visualize the results.\n",
    "#Each plot is going to be numerated in the title using the following class:\n",
    "class GraphTitle():\n",
    "    nextNumber = 1\n",
    "    def __init__(self,title): \n",
    "        self.name = 'Graph'\n",
    "        self.title = title\n",
    "        self.Number = GraphTitle.nextNumber\n",
    "        GraphTitle.nextNumber += 1\n",
    "    def getTitle(self):\n",
    "        return self.name + ' ' + str(self.Number) + '. ' + self.title\n",
    "#The object GraphTitle will be instatiated in the title method of each graph, \n",
    "#the getTitle method will be called and it will produce titles numbered in consecutive order\n",
    "#for each graph: Graph 1., Graph 2., Graph 3., ... Graph N."
   ]
  },
  {
   "cell_type": "code",
   "execution_count": 5,
   "metadata": {},
   "outputs": [
    {
     "data": {
      "image/png": "[encoded data removed]",
      "text/plain": [
       "<Figure size 468x288 with 1 Axes>"
      ]
     },
     "metadata": {
      "needs_background": "light"
     },
     "output_type": "display_data"
    }
   ],
   "source": [
    "#Ignore a FutureWarning that pops up\n",
    "import warnings\n",
    "warnings.filterwarnings('ignore')\n",
    "\n",
    "#Plotting the averages using a point plot:\n",
    "import matplotlib.pyplot as plt\n",
    "import matplotlib.ticker as ticker\n",
    "import seaborn as sns\n",
    "%matplotlib inline\n",
    "\n",
    "plt.figure(figsize=(6.5,4))\n",
    "ax = sns.pointplot(x='Category', \n",
    "                   y='num_comments',\n",
    "                   color='#ff8c00',\n",
    "                   data=categorized_df,scale=1.1)\n",
    "sns.despine(left=True,bottom=True)\n",
    "ax.axes.set_ylim(0,16)\n",
    "ax.xaxis.set_ticks_position('none') \n",
    "ax.yaxis.set_ticks_position('none')\n",
    "ax.set_title(GraphTitle('Average Number of Comments\\nfor Ask HN and Show HN').getTitle())\n",
    "ax.set(xlabel='Post Category', ylabel='Avg Number of Comments')\n",
    "plt.show()\n"
   ]
  },
  {
   "cell_type": "markdown",
   "metadata": {},
   "source": [
    "## Reading the averages\n",
    "The average values show that there are more comments on average on asking posts than on showing posts. One reason could be that people like problem solving and by commenting in an ask post they are actually solving someone else's problem. In the showing posts, people might be solving a problem but it's harder to realize who's problem are they solving. The next step is to keep analyzing the Ask HN posts, by asking, for example, which hour of the day has the most average posts."
   ]
  },
  {
   "cell_type": "code",
   "execution_count": 6,
   "metadata": {},
   "outputs": [
    {
     "name": "stdout",
     "output_type": "stream",
     "text": [
      "Average comments per hour (Eastern Time):\n",
      "\n",
      " Hour\n",
      "15:00    average 28.68 comments per post.\n",
      "13:00    average 16.32 comments per post.\n",
      "12:00    average 12.38 comments per post.\n",
      "02:00    average 11.14 comments per post.\n",
      "10:00    average 10.68 comments per post.\n",
      "Name: num_comments, dtype: object\n"
     ]
    }
   ],
   "source": [
    "#Find the hour of the day with the most comments for Ask HN posts:\n",
    "\n",
    "#Convert 'created_at' column into datetime format\n",
    "ask_df['created_at'] = pd.to_datetime(ask_df['created_at'],format='%m/%d/%Y %H:%M')\n",
    "#Extract just the hour from the 'created_at' column, so a grouping by hour can be done\n",
    "hour = ask_df['created_at'].dt.hour\n",
    "#'Hour' column created to group by that column, last map() function ignores seconds\n",
    "ask_df['Hour'] = pd.to_datetime(hour,format='%H').dt.time.map(lambda t: \n",
    "                                                              t.strftime('%H:%M'))\n",
    "#Group by hour\n",
    "avg_by_hour = ask_df.groupby('Hour').mean().sort_values(by='num_comments',ascending=False)\n",
    "print('Average comments per hour (Eastern Time):\\n\\n',\n",
    "      avg_by_hour['num_comments'].head().map('average {:,.2f} comments per post.'.format))"
   ]
  },
  {
   "cell_type": "markdown",
   "metadata": {},
   "source": [
    "## Post Creation Hours with highest average comments\n",
    "The hour a post was created receiving the highest average of comments is 15:00 Eastern Time. By looking at this information, an Ask HN post has a higher chance to get a comment at this hour. If your time zone differs from the one used in the dataset, the following code will help:"
   ]
  },
  {
   "cell_type": "code",
   "execution_count": 7,
   "metadata": {},
   "outputs": [
    {
     "name": "stdout",
     "output_type": "stream",
     "text": [
      "Average coments per hour (Nairobi Time):\n",
      "\n",
      " Nairobi_Time\n",
      "23:00    average 28.68 comments per post.\n",
      "21:00    average 16.32 comments per post.\n",
      "20:00    average 12.38 comments per post.\n",
      "10:00    average 11.14 comments per post.\n",
      "18:00    average 10.68 comments per post.\n",
      "Name: num_comments, dtype: object\n"
     ]
    }
   ],
   "source": [
    "avg_by_local_hour = avg_by_hour.reset_index()\n",
    "\n",
    "#For a user in Nairobi, Kenya, the hours with the highest average comments would differ:\n",
    "#Change 'Hour' column to 'Nairobi_Time'\n",
    "avg_by_local_hour.rename(columns={'Hour':'Nairobi_Time'},inplace=True)\n",
    "\n",
    "local_UTC = 3 #Nairobi has a time of UTC+3\n",
    "\n",
    "#Convert values in avg_by_local_hour['Hour'] to datetime objects:\n",
    "avg_by_local_hour['Nairobi_Time'] = pd.to_datetime(avg_by_local_hour['Nairobi_Time'])\n",
    "#Eastern time is UTC-5, so data values will get converted back to UTC by adding 5:\n",
    "avg_by_local_hour['Nairobi_Time'] = avg_by_local_hour['Nairobi_Time']+dt.timedelta(hours=5)\n",
    "#Now add local_UTC to the values:\n",
    "avg_by_local_hour['Nairobi_Time'] = avg_by_local_hour['Nairobi_Time']+dt.timedelta(hours=local_UTC)\n",
    "\n",
    "#Change format of 'Nairobi_Hour' to show only time and ignore seconds\n",
    "Nai_hour = avg_by_local_hour['Nairobi_Time'].dt.hour\n",
    "avg_by_local_hour['Nairobi_Time'] = pd.to_datetime(Nai_hour,format='%H').dt.time.map(lambda t: \n",
    "                                                              t.strftime('%H:%M'))\n",
    "#Set index to be the hour:\n",
    "avg_by_local_hour.set_index('Nairobi_Time',inplace=True)\n",
    "print('Average coments per hour (Nairobi Time):\\n\\n',\n",
    "      avg_by_local_hour['num_comments'].head().map('average {:,.2f} comments per post.'.format))"
   ]
  },
  {
   "cell_type": "markdown",
   "metadata": {},
   "source": [
    "## Plot the post creation hours with highest comment average\n",
    "Back to using Eastern Time, a comparison of the numbers of comments per hour is created below:"
   ]
  },
  {
   "cell_type": "code",
   "execution_count": 8,
   "metadata": {},
   "outputs": [
    {
     "data": {
      "text/html": [
       "<div>\n",
       "<style scoped>\n",
       "    .dataframe tbody tr th:only-of-type {\n",
       "        vertical-align: middle;\n",
       "    }\n",
       "\n",
       "    .dataframe tbody tr th {\n",
       "        vertical-align: top;\n",
       "    }\n",
       "\n",
       "    .dataframe thead th {\n",
       "        text-align: right;\n",
       "    }\n",
       "</style>\n",
       "<table border=\"1\" class=\"dataframe\">\n",
       "  <thead>\n",
       "    <tr style=\"text-align: right;\">\n",
       "      <th></th>\n",
       "      <th>id</th>\n",
       "      <th>title</th>\n",
       "      <th>url</th>\n",
       "      <th>num_points</th>\n",
       "      <th>num_comments</th>\n",
       "      <th>author</th>\n",
       "      <th>created_at</th>\n",
       "      <th>Category</th>\n",
       "      <th>Hour</th>\n",
       "    </tr>\n",
       "  </thead>\n",
       "  <tbody>\n",
       "    <tr>\n",
       "      <th>10</th>\n",
       "      <td>12578908</td>\n",
       "      <td>Ask HN: What TLD do you use for local developm...</td>\n",
       "      <td>NaN</td>\n",
       "      <td>4</td>\n",
       "      <td>7</td>\n",
       "      <td>Sevrene</td>\n",
       "      <td>2016-09-26 02:53:00</td>\n",
       "      <td>Ask HN</td>\n",
       "      <td>02:00</td>\n",
       "    </tr>\n",
       "    <tr>\n",
       "      <th>160250</th>\n",
       "      <td>11193292</td>\n",
       "      <td>Ask HN: Favorite Email Client?</td>\n",
       "      <td>NaN</td>\n",
       "      <td>13</td>\n",
       "      <td>20</td>\n",
       "      <td>bmnews</td>\n",
       "      <td>2016-02-29 02:00:00</td>\n",
       "      <td>Ask HN</td>\n",
       "      <td>02:00</td>\n",
       "    </tr>\n",
       "    <tr>\n",
       "      <th>160750</th>\n",
       "      <td>11189581</td>\n",
       "      <td>Ask HN: What browser do you use for front-end ...</td>\n",
       "      <td>NaN</td>\n",
       "      <td>2</td>\n",
       "      <td>5</td>\n",
       "      <td>bikamonki</td>\n",
       "      <td>2016-02-28 02:50:00</td>\n",
       "      <td>Ask HN</td>\n",
       "      <td>02:00</td>\n",
       "    </tr>\n",
       "    <tr>\n",
       "      <th>27873</th>\n",
       "      <td>12324739</td>\n",
       "      <td>Ask HN: Were you fooled by the selective atten...</td>\n",
       "      <td>NaN</td>\n",
       "      <td>1</td>\n",
       "      <td>0</td>\n",
       "      <td>lawpoop</td>\n",
       "      <td>2016-08-20 02:04:00</td>\n",
       "      <td>Ask HN</td>\n",
       "      <td>02:00</td>\n",
       "    </tr>\n",
       "    <tr>\n",
       "      <th>160753</th>\n",
       "      <td>11189543</td>\n",
       "      <td>Ask HN: How do you get your private projects/r...</td>\n",
       "      <td>NaN</td>\n",
       "      <td>3</td>\n",
       "      <td>1</td>\n",
       "      <td>steve2048</td>\n",
       "      <td>2016-02-28 02:39:00</td>\n",
       "      <td>Ask HN</td>\n",
       "      <td>02:00</td>\n",
       "    </tr>\n",
       "  </tbody>\n",
       "</table>\n",
       "</div>"
      ],
      "text/plain": [
       "              id                                              title  url  \\\n",
       "10      12578908  Ask HN: What TLD do you use for local developm...  NaN   \n",
       "160250  11193292                     Ask HN: Favorite Email Client?  NaN   \n",
       "160750  11189581  Ask HN: What browser do you use for front-end ...  NaN   \n",
       "27873   12324739  Ask HN: Were you fooled by the selective atten...  NaN   \n",
       "160753  11189543  Ask HN: How do you get your private projects/r...  NaN   \n",
       "\n",
       "        num_points  num_comments     author          created_at Category  \\\n",
       "10               4             7    Sevrene 2016-09-26 02:53:00   Ask HN   \n",
       "160250          13            20     bmnews 2016-02-29 02:00:00   Ask HN   \n",
       "160750           2             5  bikamonki 2016-02-28 02:50:00   Ask HN   \n",
       "27873            1             0    lawpoop 2016-08-20 02:04:00   Ask HN   \n",
       "160753           3             1  steve2048 2016-02-28 02:39:00   Ask HN   \n",
       "\n",
       "         Hour  \n",
       "10      02:00  \n",
       "160250  02:00  \n",
       "160750  02:00  \n",
       "27873   02:00  \n",
       "160753  02:00  "
      ]
     },
     "execution_count": 8,
     "metadata": {},
     "output_type": "execute_result"
    }
   ],
   "source": [
    "#Filter ask_df to show only the top 5 hours discovered above\n",
    "ask_df_top_hrs = ask_df[ask_df['Hour'].isin(avg_by_hour['num_comments'].head().index)]\n",
    "#Sort by column 'Hour'\n",
    "ask_df_top_hrs = ask_df_top_hrs.sort_values(by='Hour')\n",
    "#Display result\n",
    "ask_df_top_hrs.head()"
   ]
  },
  {
   "cell_type": "code",
   "execution_count": 9,
   "metadata": {},
   "outputs": [
    {
     "data": {
      "image/png": "[encoded data removed]",
      "text/plain": [
       "<Figure size 594x396 with 1 Axes>"
      ]
     },
     "metadata": {
      "needs_background": "light"
     },
     "output_type": "display_data"
    }
   ],
   "source": [
    "#Plot:\n",
    "#First make a list of labels for the x axis to show both Eastern Time and Nairobi Time:\n",
    "labels = []\n",
    "#sort times \n",
    "Etimes = avg_by_hour['num_comments'].head().sort_index()\n",
    "Ntimes = avg_by_local_hour['num_comments'].head().sort_index()\n",
    "#append values to list\n",
    "for h in range(len(avg_by_local_hour['num_comments'].head().index)):\n",
    "    labels.append('{} ET\\n{} NT'.format(Etimes.index[h],\n",
    "                                        Ntimes.index[h]))\n",
    "#Create plot\n",
    "ax = sns.catplot(x='Hour', \n",
    "                   y='num_comments',\n",
    "                   hue='Hour',\n",
    "                   data=ask_df_top_hrs,\n",
    "                   height=5.5,aspect=1.5,jitter=0.3,palette='Dark2_r')\n",
    "sns.despine(left=True,bottom=True)\n",
    "ax.set_axis_labels('Hour (24hr format) ET=Eastern Time,  NT=Nairobi Time','Number of Comments')\n",
    "ax.set_xticklabels(labels) #pass the labels list with the two times\n",
    "plt.title(GraphTitle('Number of Ask HN Comments in top 5 Hours').getTitle())\n",
    "plt.tick_params(axis='both', which='both',length=0)\n",
    "plt.show()\n"
   ]
  },
  {
   "cell_type": "markdown",
   "metadata": {},
   "source": [
    "## The Points System\n",
    "\n",
    "Now that the comments activity has been explored, it would be relevant to look into the Points column, 'num_points' of the dataset. A point in the Hacker News website works as a vote. The number of points in a post equals the number of users that voted for that post. The same work done in the 'num_comments' columns will be now done in this column,. That is, determine which category, 'Show HN' or 'Ask HN, receives more points on average and depending on the answer determine at what time the comments get more points."
   ]
  },
  {
   "cell_type": "code",
   "execution_count": 10,
   "metadata": {},
   "outputs": [
    {
     "name": "stdout",
     "output_type": "stream",
     "text": [
      "Average points:\n",
      "\n",
      " Category\n",
      "Ask HN     11.311741\n",
      "Show HN    14.843572\n",
      "Name: num_points, dtype: float64\n"
     ]
    }
   ],
   "source": [
    "#Use the 'categorized_df' dataframe created before, which already filtered the 'Ask HN' and 'Show HN' posts:\n",
    "mean = categorized_df.groupby('Category').mean()\n",
    "print('Average points:\\n\\n',mean['num_points'])"
   ]
  },
  {
   "cell_type": "code",
   "execution_count": 11,
   "metadata": {},
   "outputs": [
    {
     "data": {
      "image/png": "[encoded data removed]",
      "text/plain": [
       "<Figure size 468x288 with 1 Axes>"
      ]
     },
     "metadata": {
      "needs_background": "light"
     },
     "output_type": "display_data"
    }
   ],
   "source": [
    "#Create a point plot to visualize the difference:\n",
    "import matplotlib.ticker as ticker\n",
    "%matplotlib inline\n",
    "\n",
    "plt.figure(figsize=(6.5,4))\n",
    "ax = sns.pointplot(x='Category', \n",
    "                   y='num_points',\n",
    "                   color='#229954',\n",
    "                   data=categorized_df,scale=1.1)\n",
    "sns.despine(left=True,bottom=True)\n",
    "ax.axes.set_ylim(0,20)\n",
    "ax.xaxis.set_ticks_position('none') #Remove x axis ticks\n",
    "ax.yaxis.set_ticks_position('none') #Remove y axis ticks\n",
    "ax.yaxis.set_major_locator(ticker.MultipleLocator(4)) #Y axis intervals (step).\n",
    "ax.set(xlabel='Post Category', ylabel='Avg Number of Points')\n",
    "ax.set_title(GraphTitle('Average Number of Points\\nfor Ask HN and Show HN').getTitle())\n",
    "plt.show()"
   ]
  },
  {
   "cell_type": "markdown",
   "metadata": {},
   "source": [
    "## 'Show HN' has a higher average of Points\n",
    "Show HN posts get more points on average than Ask HN posts, opposite dynamic than when measuring the amount of comments. The next step is to keep analyzing the Show HN posts by finding out which hour of the day has the most average points."
   ]
  },
  {
   "cell_type": "code",
   "execution_count": 12,
   "metadata": {},
   "outputs": [
    {
     "name": "stdout",
     "output_type": "stream",
     "text": [
      "Average points per hour (Eastern Time):\n",
      "\n",
      " Hour\n",
      "12:00    average 20.91 points per post.\n",
      "11:00    average 19.26 points per post.\n",
      "13:00    average 17.02 points per post.\n",
      "19:00    average 16.06 points per post.\n",
      "06:00    average 15.99 points per post.\n",
      "Name: num_points, dtype: object\n"
     ]
    }
   ],
   "source": [
    "#Find the hour of the day with the most points for Show HN posts:\n",
    "#(The show_df dataframe was created at the begining of this project)\n",
    "\n",
    "#Convert 'created_at' column into datetime format\n",
    "show_df['created_at'] = pd.to_datetime(show_df['created_at'],format='%m/%d/%Y %H:%M')\n",
    "#Extract just the hour from the 'created_at' column, so a grouping by hour can be done\n",
    "hour = show_df['created_at'].dt.hour\n",
    "#'Hour' column created to group by that column, last map() function ignores seconds\n",
    "show_df['Hour'] = pd.to_datetime(hour,format='%H').dt.time.map(lambda t: \n",
    "                                                              t.strftime('%H:%M'))\n",
    "#Group by hour\n",
    "avgP_by_hour = show_df.groupby('Hour').mean().sort_values(by='num_points',ascending=False)\n",
    "print('Average points per hour (Eastern Time):\\n\\n',\n",
    "      avgP_by_hour['num_points'].head().map('average {:,.2f} points per post.'.format))"
   ]
  },
  {
   "cell_type": "markdown",
   "metadata": {},
   "source": [
    "## Post Creation Hours with highest average of points\n",
    "The hour a post was created receiving the highest average of points is 12:00 Eastern Time. A Show HN post has a higher chance to get more points at this hour. A plot showing the number of points for each of the top 5 hours is  helpful to compare times. The plto is shown in the next section."
   ]
  },
  {
   "cell_type": "markdown",
   "metadata": {},
   "source": [
    "## Plotting the Number of Points per Hour"
   ]
  },
  {
   "cell_type": "code",
   "execution_count": 13,
   "metadata": {},
   "outputs": [
    {
     "data": {
      "text/html": [
       "<div>\n",
       "<style scoped>\n",
       "    .dataframe tbody tr th:only-of-type {\n",
       "        vertical-align: middle;\n",
       "    }\n",
       "\n",
       "    .dataframe tbody tr th {\n",
       "        vertical-align: top;\n",
       "    }\n",
       "\n",
       "    .dataframe thead th {\n",
       "        text-align: right;\n",
       "    }\n",
       "</style>\n",
       "<table border=\"1\" class=\"dataframe\">\n",
       "  <thead>\n",
       "    <tr style=\"text-align: right;\">\n",
       "      <th></th>\n",
       "      <th>id</th>\n",
       "      <th>title</th>\n",
       "      <th>url</th>\n",
       "      <th>num_points</th>\n",
       "      <th>num_comments</th>\n",
       "      <th>author</th>\n",
       "      <th>created_at</th>\n",
       "      <th>Category</th>\n",
       "      <th>Hour</th>\n",
       "      <th>Nairobi_Time</th>\n",
       "    </tr>\n",
       "  </thead>\n",
       "  <tbody>\n",
       "    <tr>\n",
       "      <th>52</th>\n",
       "      <td>12578335</td>\n",
       "      <td>Show HN: Finding puns computationally</td>\n",
       "      <td>http://puns.samueltaylor.org/</td>\n",
       "      <td>2</td>\n",
       "      <td>0</td>\n",
       "      <td>saamm</td>\n",
       "      <td>2016-09-26 00:36:00</td>\n",
       "      <td>Show HN</td>\n",
       "      <td>00:00</td>\n",
       "      <td>08:00</td>\n",
       "    </tr>\n",
       "    <tr>\n",
       "      <th>58</th>\n",
       "      <td>12578182</td>\n",
       "      <td>Show HN: A simple library for complicated anim...</td>\n",
       "      <td>https://christinecha.github.io/choreographer-js/</td>\n",
       "      <td>1</td>\n",
       "      <td>0</td>\n",
       "      <td>christinecha</td>\n",
       "      <td>2016-09-26 00:01:00</td>\n",
       "      <td>Show HN</td>\n",
       "      <td>00:00</td>\n",
       "      <td>08:00</td>\n",
       "    </tr>\n",
       "    <tr>\n",
       "      <th>64</th>\n",
       "      <td>12578098</td>\n",
       "      <td>Show HN: WebGL visualization of DNA sequences</td>\n",
       "      <td>http://grondilu.github.io/dna.html</td>\n",
       "      <td>1</td>\n",
       "      <td>0</td>\n",
       "      <td>grondilu</td>\n",
       "      <td>2016-09-25 23:44:00</td>\n",
       "      <td>Show HN</td>\n",
       "      <td>23:00</td>\n",
       "      <td>07:00</td>\n",
       "    </tr>\n",
       "  </tbody>\n",
       "</table>\n",
       "</div>"
      ],
      "text/plain": [
       "          id                                              title  \\\n",
       "52  12578335              Show HN: Finding puns computationally   \n",
       "58  12578182  Show HN: A simple library for complicated anim...   \n",
       "64  12578098      Show HN: WebGL visualization of DNA sequences   \n",
       "\n",
       "                                                 url  num_points  \\\n",
       "52                     http://puns.samueltaylor.org/           2   \n",
       "58  https://christinecha.github.io/choreographer-js/           1   \n",
       "64                http://grondilu.github.io/dna.html           1   \n",
       "\n",
       "    num_comments        author          created_at Category   Hour  \\\n",
       "52             0         saamm 2016-09-26 00:36:00  Show HN  00:00   \n",
       "58             0  christinecha 2016-09-26 00:01:00  Show HN  00:00   \n",
       "64             0      grondilu 2016-09-25 23:44:00  Show HN  23:00   \n",
       "\n",
       "   Nairobi_Time  \n",
       "52        08:00  \n",
       "58        08:00  \n",
       "64        07:00  "
      ]
     },
     "execution_count": 13,
     "metadata": {},
     "output_type": "execute_result"
    }
   ],
   "source": [
    "#First create a new column to have the Nairobi Time already available:\n",
    "show_df['Nairobi_Time'] = show_df['Hour']\n",
    "#Convert the new column to datetime so the timedelta operation can be done\n",
    "show_df['Nairobi_Time'] = pd.to_datetime(show_df['Nairobi_Time'])\n",
    "#We know now that Nairobi Time equals Eastern Time + 8 hours\n",
    "show_df['Nairobi_Time'] = show_df['Nairobi_Time']+dt.timedelta(hours=8)\n",
    "#Format the Nairobi Time column to show just the hour and minutes as a string\n",
    "Nai_hour = show_df['Nairobi_Time'].dt.hour\n",
    "show_df['Nairobi_Time'] = pd.to_datetime(Nai_hour,format='%H').dt.time.map(lambda t: \n",
    "                                                              t.strftime('%H:%M'))\n",
    "show_df.head(3)\n"
   ]
  },
  {
   "cell_type": "code",
   "execution_count": 14,
   "metadata": {},
   "outputs": [
    {
     "data": {
      "text/html": [
       "<div>\n",
       "<style scoped>\n",
       "    .dataframe tbody tr th:only-of-type {\n",
       "        vertical-align: middle;\n",
       "    }\n",
       "\n",
       "    .dataframe tbody tr th {\n",
       "        vertical-align: top;\n",
       "    }\n",
       "\n",
       "    .dataframe thead th {\n",
       "        text-align: right;\n",
       "    }\n",
       "</style>\n",
       "<table border=\"1\" class=\"dataframe\">\n",
       "  <thead>\n",
       "    <tr style=\"text-align: right;\">\n",
       "      <th></th>\n",
       "      <th>id</th>\n",
       "      <th>title</th>\n",
       "      <th>url</th>\n",
       "      <th>num_points</th>\n",
       "      <th>num_comments</th>\n",
       "      <th>author</th>\n",
       "      <th>created_at</th>\n",
       "      <th>Category</th>\n",
       "      <th>Hour</th>\n",
       "      <th>Nairobi_Time</th>\n",
       "    </tr>\n",
       "  </thead>\n",
       "  <tbody>\n",
       "    <tr>\n",
       "      <th>233400</th>\n",
       "      <td>10613173</td>\n",
       "      <td>Show HN: RC-455  A WebAudio Synthesizer</td>\n",
       "      <td>http://barakchamo.github.io/rc455</td>\n",
       "      <td>35</td>\n",
       "      <td>20</td>\n",
       "      <td>BarakChamo</td>\n",
       "      <td>2015-11-23 06:24:00</td>\n",
       "      <td>Show HN</td>\n",
       "      <td>06:00</td>\n",
       "      <td>14:00</td>\n",
       "    </tr>\n",
       "    <tr>\n",
       "      <th>132131</th>\n",
       "      <td>11428264</td>\n",
       "      <td>Show HN: Module loader for chrome console</td>\n",
       "      <td>https://chrome.google.com/webstore/detail/r42-...</td>\n",
       "      <td>13</td>\n",
       "      <td>3</td>\n",
       "      <td>chadscira</td>\n",
       "      <td>2016-04-05 06:23:00</td>\n",
       "      <td>Show HN</td>\n",
       "      <td>06:00</td>\n",
       "      <td>14:00</td>\n",
       "    </tr>\n",
       "    <tr>\n",
       "      <th>44905</th>\n",
       "      <td>12178635</td>\n",
       "      <td>Show HN: AtGet.rb v3.0  Apple Trailers Downloader</td>\n",
       "      <td>https://github.com/tuxy/ruby/blob/master/atget.rb</td>\n",
       "      <td>1</td>\n",
       "      <td>0</td>\n",
       "      <td>tux</td>\n",
       "      <td>2016-07-28 06:05:00</td>\n",
       "      <td>Show HN</td>\n",
       "      <td>06:00</td>\n",
       "      <td>14:00</td>\n",
       "    </tr>\n",
       "  </tbody>\n",
       "</table>\n",
       "</div>"
      ],
      "text/plain": [
       "              id                                              title  \\\n",
       "233400  10613173            Show HN: RC-455  A WebAudio Synthesizer   \n",
       "132131  11428264          Show HN: Module loader for chrome console   \n",
       "44905   12178635  Show HN: AtGet.rb v3.0  Apple Trailers Downloader   \n",
       "\n",
       "                                                      url  num_points  \\\n",
       "233400                  http://barakchamo.github.io/rc455          35   \n",
       "132131  https://chrome.google.com/webstore/detail/r42-...          13   \n",
       "44905   https://github.com/tuxy/ruby/blob/master/atget.rb           1   \n",
       "\n",
       "        num_comments      author          created_at Category   Hour  \\\n",
       "233400            20  BarakChamo 2015-11-23 06:24:00  Show HN  06:00   \n",
       "132131             3   chadscira 2016-04-05 06:23:00  Show HN  06:00   \n",
       "44905              0         tux 2016-07-28 06:05:00  Show HN  06:00   \n",
       "\n",
       "       Nairobi_Time  \n",
       "233400        14:00  \n",
       "132131        14:00  \n",
       "44905         14:00  "
      ]
     },
     "execution_count": 14,
     "metadata": {},
     "output_type": "execute_result"
    }
   ],
   "source": [
    "#Filter show_df to show only the top 5 hours discovered above\n",
    "show_df_top_hrs = show_df[show_df['Hour'].isin(avgP_by_hour['num_points'].head().index)]\n",
    "#Sort by column 'Hour'\n",
    "show_df_top_hrs = show_df_top_hrs.sort_values(by='Hour')\n",
    "#Display result\n",
    "show_df_top_hrs.head(3)"
   ]
  },
  {
   "cell_type": "code",
   "execution_count": 15,
   "metadata": {},
   "outputs": [
    {
     "data": {
      "image/png": "[encoded data removed]",
      "text/plain": [
       "<Figure size 594x396 with 1 Axes>"
      ]
     },
     "metadata": {
      "needs_background": "light"
     },
     "output_type": "display_data"
    }
   ],
   "source": [
    "#Plot:\n",
    "#First make a list of labels for the x axis to show both Eastern Time and Nairobi Time:\n",
    "labels = []\n",
    "#sort times \n",
    "Etimes = show_df_top_hrs['Hour'].unique()\n",
    "Ntimes = show_df_top_hrs['Nairobi_Time'].unique()\n",
    "#append values to list\n",
    "for h in range(len(avg_by_local_hour['num_comments'].head().index)):\n",
    "    labels.append('{} ET\\n{} NT'.format(Etimes[h],\n",
    "                                        Ntimes[h]))\n",
    "#Create plot\n",
    "ax = sns.catplot(x='Hour', \n",
    "                   y='num_points',\n",
    "                   hue='Hour',\n",
    "                   data=show_df_top_hrs,\n",
    "                   height=5.5,aspect=1.5,jitter=0.3,palette='Dark2_r')\n",
    "sns.despine(left=True,bottom=True)\n",
    "ax.set_axis_labels('Hour (24hr format) ET=Eastern Time,  NT=Nairobi Time','Number of Points')\n",
    "ax.set_xticklabels(labels) #pass the labels list with the two times\n",
    "plt.title(GraphTitle('Number of Show HN Points in top 5 Hours').getTitle())\n",
    "plt.tick_params(axis='both', which='both',length=0)\n",
    "plt.show()"
   ]
  },
  {
   "cell_type": "markdown",
   "metadata": {},
   "source": [
    "Graph 4 above shows the hour of highest average points, 12:00 Eastern Time (20:00 Nairobi Time) as compared with the other top 5 hours. It can be seen that at hour 11:00 ET a single post obtained around 1,000 points."
   ]
  },
  {
   "cell_type": "markdown",
   "metadata": {},
   "source": [
    "## Other posts\n",
    "\n",
    "There are other types of posts in the Hacker News website which are not labeled as Ask HN or Show HN. To make this analysis complete, an exploration of the number of comments and number of points will be performed on the other posts."
   ]
  },
  {
   "cell_type": "code",
   "execution_count": 16,
   "metadata": {},
   "outputs": [
    {
     "name": "stdout",
     "output_type": "stream",
     "text": [
      "Average comments:\n",
      "\n",
      " Category\n",
      "Ask HN     10.393478\n",
      "Other       6.525544\n",
      "Show HN     4.886100\n",
      "Name: num_comments, dtype: float64\n"
     ]
    }
   ],
   "source": [
    "other_df = df[~ask_posts | ~show_posts] #Use the ~ to indicate this variables are excluded\n",
    "\n",
    "#Create a 'Category' column were all comments are labeled as 'Other'\n",
    "other_df['Category'] = 'Other'\n",
    "\n",
    "#Append this to the 'categorized_df' dataframe created before\n",
    "new_categorized_df = categorized_df.append(other_df)\n",
    "#Group by category and produce mean:\n",
    "mean = new_categorized_df.groupby('Category').mean()\n",
    "print('Average comments:\\n\\n',mean['num_comments'])"
   ]
  },
  {
   "cell_type": "code",
   "execution_count": 17,
   "metadata": {},
   "outputs": [
    {
     "data": {
      "image/png": "[encoded data removed]",
      "text/plain": [
       "<Figure size 468x288 with 1 Axes>"
      ]
     },
     "metadata": {
      "needs_background": "light"
     },
     "output_type": "display_data"
    }
   ],
   "source": [
    "%matplotlib inline\n",
    "\n",
    "#Use the melt() function to unpivot the dataframe and \n",
    "#set the columns 'num_comments' and 'num_points' as values of a column named 'Variables'\n",
    "plot_df = new_categorized_df.melt('Category', \n",
    "                                  value_vars=['num_comments','num_points'],\n",
    "                                  var_name='Variables',  \n",
    "                                  value_name='Count')\n",
    "\n",
    "plt.figure(figsize=(6.5,4))\n",
    "\n",
    "ax = sns.pointplot(x='Category', \n",
    "                   y='Count',\n",
    "                   hue='Variables',\n",
    "                   data=plot_df,scale=1.1)\n",
    "sns.despine(left=True,bottom=True)\n",
    "ax.axes.set_ylim(0,18)\n",
    "ax.xaxis.set_ticks_position('none') #Remove x axis ticks\n",
    "ax.yaxis.set_ticks_position('none') #Remove y axis ticks\n",
    "ax.set(xlabel='Post Category',ylabel='Average Number')\n",
    "ax.xaxis.labelpad = 15 #Move the x axis label downward\n",
    "ax.set_title(GraphTitle('Average Number of Comments\\nand Points per Category').getTitle())\n",
    "ax.legend(bbox_to_anchor=(1.05, 1),loc='best',title='Variables') #Move legend outside\n",
    "plt.show()"
   ]
  },
  {
   "cell_type": "markdown",
   "metadata": {},
   "source": [
    "Graph 5 above shows that other posts don't receive a considerable amount of comments in average, but they do get slightly more points than the Show HN category and much more points than the Ask HN category."
   ]
  },
  {
   "cell_type": "markdown",
   "metadata": {},
   "source": [
    "## Conclusion\n",
    "\n",
    "Hacker News is a website where tech and startup stories are shared. As any other posting service, it enables the interaction among its users. The stories that get the most engagement (number of comments/points) aquire more visibility hence giving more attention to the author of the post. This small project was able to establish three things:\n",
    "- What types of posts are found in Hacker News.com.\n",
    "- The average number of comments for each type of post.\n",
    "- The time of day in which a post is created may have incidence in the amount of points and comments it receives.\n"
   ]
  }
 ],
 "metadata": {
  "kernelspec": {
   "display_name": "Python 3",
   "language": "python",
   "name": "python3"
  },
  "language_info": {
   "codemirror_mode": {
    "name": "ipython",
    "version": 3
   },
   "file_extension": ".py",
   "mimetype": "text/x-python",
   "name": "python",
   "nbconvert_exporter": "python",
   "pygments_lexer": "ipython3",
   "version": "3.6.6"
  }
 },
 "nbformat": 4,
 "nbformat_minor": 2
}
