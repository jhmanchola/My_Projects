{
 "cells": [
  {
   "cell_type": "markdown",
   "metadata": {},
   "source": [
    "# Skopje Air Pollution\n",
    "\n",
    "This project uses a dataset on air pollution for the city of Skopje, North Macedonia, that measures the hourly particle concentration in the air, expanding from the year 2008 to 2018. This project focuses on the time period concerning the winter seasons of the years between 2013 and 2018. The project aims to answer the following questions:\n",
    "\n",
    "- Which have been the top 3 worst months overall?\n",
    "- Which measuring station has the highest ratings on average?\n",
    "- Make a pie chart with the average rating for each station\n",
    "- Which is the worst month per measuring station on average? Is it the same for them all?\n",
    "- Make a horizontal bar chart showing how many days in total the measurements have been over 50 for each.\n",
    "- Same chart for over 200.\n",
    "\n",
    "Pollution here is measured in PM10, or 10 micrograms per cubic meter.\n",
    "\n",
    "\n",
    "## Loading and Checking the Data"
   ]
  },
  {
   "cell_type": "code",
   "execution_count": 1,
   "metadata": {},
   "outputs": [
    {
     "data": {
      "text/html": [
       "<div>\n",
       "<style scoped>\n",
       "    .dataframe tbody tr th:only-of-type {\n",
       "        vertical-align: middle;\n",
       "    }\n",
       "\n",
       "    .dataframe tbody tr th {\n",
       "        vertical-align: top;\n",
       "    }\n",
       "\n",
       "    .dataframe thead th {\n",
       "        text-align: right;\n",
       "    }\n",
       "</style>\n",
       "<table border=\"1\" class=\"dataframe\">\n",
       "  <thead>\n",
       "    <tr style=\"text-align: right;\">\n",
       "      <th></th>\n",
       "      <th>A</th>\n",
       "      <th>B</th>\n",
       "      <th>C</th>\n",
       "      <th>D</th>\n",
       "      <th>E</th>\n",
       "      <th>G</th>\n",
       "      <th>time</th>\n",
       "    </tr>\n",
       "  </thead>\n",
       "  <tbody>\n",
       "    <tr>\n",
       "      <th>0</th>\n",
       "      <td>NaN</td>\n",
       "      <td>NaN</td>\n",
       "      <td>NaN</td>\n",
       "      <td>NaN</td>\n",
       "      <td>NaN</td>\n",
       "      <td>120.26</td>\n",
       "      <td>2008-01-01 00:00:00</td>\n",
       "    </tr>\n",
       "    <tr>\n",
       "      <th>1</th>\n",
       "      <td>NaN</td>\n",
       "      <td>NaN</td>\n",
       "      <td>124.84</td>\n",
       "      <td>99.12</td>\n",
       "      <td>NaN</td>\n",
       "      <td>130.95</td>\n",
       "      <td>2008-01-01 01:00:00</td>\n",
       "    </tr>\n",
       "    <tr>\n",
       "      <th>2</th>\n",
       "      <td>NaN</td>\n",
       "      <td>NaN</td>\n",
       "      <td>107.64</td>\n",
       "      <td>98.37</td>\n",
       "      <td>NaN</td>\n",
       "      <td>130.19</td>\n",
       "      <td>2008-01-01 02:00:00</td>\n",
       "    </tr>\n",
       "    <tr>\n",
       "      <th>3</th>\n",
       "      <td>NaN</td>\n",
       "      <td>NaN</td>\n",
       "      <td>107.80</td>\n",
       "      <td>89.33</td>\n",
       "      <td>NaN</td>\n",
       "      <td>121.46</td>\n",
       "      <td>2008-01-01 03:00:00</td>\n",
       "    </tr>\n",
       "    <tr>\n",
       "      <th>4</th>\n",
       "      <td>NaN</td>\n",
       "      <td>NaN</td>\n",
       "      <td>100.65</td>\n",
       "      <td>94.35</td>\n",
       "      <td>NaN</td>\n",
       "      <td>103.99</td>\n",
       "      <td>2008-01-01 04:00:00</td>\n",
       "    </tr>\n",
       "  </tbody>\n",
       "</table>\n",
       "</div>"
      ],
      "text/plain": [
       "    A   B       C      D   E       G                 time\n",
       "0 NaN NaN     NaN    NaN NaN  120.26  2008-01-01 00:00:00\n",
       "1 NaN NaN  124.84  99.12 NaN  130.95  2008-01-01 01:00:00\n",
       "2 NaN NaN  107.64  98.37 NaN  130.19  2008-01-01 02:00:00\n",
       "3 NaN NaN  107.80  89.33 NaN  121.46  2008-01-01 03:00:00\n",
       "4 NaN NaN  100.65  94.35 NaN  103.99  2008-01-01 04:00:00"
      ]
     },
     "execution_count": 1,
     "metadata": {},
     "output_type": "execute_result"
    }
   ],
   "source": [
    "import pandas as pd\n",
    "import numpy as np\n",
    "import datetime\n",
    "import matplotlib.pyplot as plt\n",
    "%matplotlib inline\n",
    "\n",
    "skopje_data = pd.read_csv('pm10_data.csv')\n",
    "skopje_data.head()"
   ]
  },
  {
   "cell_type": "code",
   "execution_count": 2,
   "metadata": {},
   "outputs": [
    {
     "data": {
      "text/plain": [
       "dtype('O')"
      ]
     },
     "execution_count": 2,
     "metadata": {},
     "output_type": "execute_result"
    }
   ],
   "source": [
    "#Check 'time' variable data type\n",
    "skopje_data['time'].dtype"
   ]
  },
  {
   "cell_type": "markdown",
   "metadata": {},
   "source": [
    "## Data Cleaning\n",
    "The first thing to do is change the time column into a datetime type to make date searching and referencing easier."
   ]
  },
  {
   "cell_type": "code",
   "execution_count": 3,
   "metadata": {},
   "outputs": [
    {
     "name": "stderr",
     "output_type": "stream",
     "text": [
      "C:\\Users\\joman\\Anaconda3\\lib\\site-packages\\ipykernel_launcher.py:5: FutureWarning: Comparing Series of datetimes with 'datetime.date'.  Currently, the\n",
      "'datetime.date' is coerced to a datetime. In the future pandas will\n",
      "not coerce, and a TypeError will be raised. To retain the current\n",
      "behavior, convert the 'datetime.date' to a datetime with\n",
      "'pd.Timestamp'.\n",
      "  \"\"\"\n"
     ]
    }
   ],
   "source": [
    "#Change column to datetime data type\n",
    "skopje_data['time'] = pd.to_datetime(skopje_data['time'])\n",
    "\n",
    "#Filter yaers from november 2013 up\n",
    "skopje_data_winters = skopje_data[skopje_data['time']>datetime.date(2013,11,1)]\n",
    "#Filter months only November to February including February\n",
    "skopje_data_winters = skopje_data_winters[(skopje_data_winters['time'].dt.month >= 11) | \n",
    "                    (skopje_data_winters['time'].dt.month <= 2)].reset_index(drop=True)"
   ]
  },
  {
   "cell_type": "markdown",
   "metadata": {},
   "source": [
    "Now we check how many null values we have in all columns:"
   ]
  },
  {
   "cell_type": "code",
   "execution_count": 4,
   "metadata": {},
   "outputs": [
    {
     "data": {
      "text/plain": [
       "A        365\n",
       "B       3453\n",
       "C        527\n",
       "D         90\n",
       "E       1801\n",
       "G        276\n",
       "time       0\n",
       "dtype: int64"
      ]
     },
     "execution_count": 4,
     "metadata": {},
     "output_type": "execute_result"
    }
   ],
   "source": [
    "skopje_data_winters.isna().sum()"
   ]
  },
  {
   "cell_type": "markdown",
   "metadata": {},
   "source": [
    "We see a lot of null values. The following strategy will be implemented to deal with null values: since each value represents a different hour, each null value will be replaced by the average value registered for the same hour for the same month. For example, if there is a null value on November 3rd 2014 at 3pm, that null value will be replaced by the average of every 3pm value in November of every year."
   ]
  },
  {
   "cell_type": "code",
   "execution_count": 5,
   "metadata": {},
   "outputs": [],
   "source": [
    "#Group by month and hour to get average monthly values for the same hour\n",
    "replacements = skopje_data_winters.groupby([skopje_data_winters['time'].dt.month,\n",
    "                                            skopje_data_winters['time'].dt.hour]).mean().round(4)"
   ]
  },
  {
   "cell_type": "code",
   "execution_count": 6,
   "metadata": {},
   "outputs": [],
   "source": [
    "#Create lists of average values for each station\n",
    "temp_A = [replacements['A'].loc[n.month,n.hour] for n in skopje_data_winters['time']]\n",
    "temp_B = [replacements['B'].loc[n.month,n.hour] for n in skopje_data_winters['time']]  \n",
    "temp_C = [replacements['C'].loc[n.month,n.hour] for n in skopje_data_winters['time']] \n",
    "temp_D = [replacements['D'].loc[n.month,n.hour] for n in skopje_data_winters['time']]\n",
    "temp_E = [replacements['E'].loc[n.month,n.hour] for n in skopje_data_winters['time']]\n",
    "temp_G = [replacements['G'].loc[n.month,n.hour] for n in skopje_data_winters['time']]"
   ]
  },
  {
   "cell_type": "code",
   "execution_count": 7,
   "metadata": {},
   "outputs": [],
   "source": [
    "#Replace all null values with the average values in the lists for each station\n",
    "skopje_data_winters['A'] = np.where(skopje_data_winters['A'].isnull(),temp_A,skopje_data_winters['A'])\n",
    "skopje_data_winters['B'] = np.where(skopje_data_winters['B'].isnull(),temp_B,skopje_data_winters['B']) \n",
    "skopje_data_winters['C'] = np.where(skopje_data_winters['C'].isnull(),temp_C,skopje_data_winters['C'])\n",
    "skopje_data_winters['D'] = np.where(skopje_data_winters['D'].isnull(),temp_D,skopje_data_winters['D']) \n",
    "skopje_data_winters['E'] = np.where(skopje_data_winters['E'].isnull(),temp_E,skopje_data_winters['E'])\n",
    "skopje_data_winters['G'] = np.where(skopje_data_winters['G'].isnull(),temp_G,skopje_data_winters['G'])"
   ]
  },
  {
   "cell_type": "markdown",
   "metadata": {},
   "source": [
    "## Answering Questions about the Data\n",
    "### Which have been the top 3 worst months overall?"
   ]
  },
  {
   "cell_type": "code",
   "execution_count": 8,
   "metadata": {},
   "outputs": [
    {
     "data": {
      "text/html": [
       "<div>\n",
       "<style scoped>\n",
       "    .dataframe tbody tr th:only-of-type {\n",
       "        vertical-align: middle;\n",
       "    }\n",
       "\n",
       "    .dataframe tbody tr th {\n",
       "        vertical-align: top;\n",
       "    }\n",
       "\n",
       "    .dataframe thead th {\n",
       "        text-align: right;\n",
       "    }\n",
       "</style>\n",
       "<table border=\"1\" class=\"dataframe\">\n",
       "  <thead>\n",
       "    <tr style=\"text-align: right;\">\n",
       "      <th></th>\n",
       "      <th>A</th>\n",
       "      <th>B</th>\n",
       "      <th>C</th>\n",
       "      <th>D</th>\n",
       "      <th>E</th>\n",
       "      <th>G</th>\n",
       "    </tr>\n",
       "    <tr>\n",
       "      <th>time</th>\n",
       "      <th></th>\n",
       "      <th></th>\n",
       "      <th></th>\n",
       "      <th></th>\n",
       "      <th></th>\n",
       "      <th></th>\n",
       "    </tr>\n",
       "  </thead>\n",
       "  <tbody>\n",
       "    <tr>\n",
       "      <th>December</th>\n",
       "      <td>130.12800</td>\n",
       "      <td>123.7720</td>\n",
       "      <td>119.18700</td>\n",
       "      <td>154.39500</td>\n",
       "      <td>67.21400</td>\n",
       "      <td>128.72000</td>\n",
       "    </tr>\n",
       "    <tr>\n",
       "      <th>February</th>\n",
       "      <td>64.90335</td>\n",
       "      <td>68.3645</td>\n",
       "      <td>58.71985</td>\n",
       "      <td>72.58495</td>\n",
       "      <td>44.63495</td>\n",
       "      <td>67.80995</td>\n",
       "    </tr>\n",
       "    <tr>\n",
       "      <th>January</th>\n",
       "      <td>116.04850</td>\n",
       "      <td>143.6150</td>\n",
       "      <td>110.02200</td>\n",
       "      <td>145.60500</td>\n",
       "      <td>84.76495</td>\n",
       "      <td>125.78890</td>\n",
       "    </tr>\n",
       "    <tr>\n",
       "      <th>November</th>\n",
       "      <td>76.77810</td>\n",
       "      <td>81.0566</td>\n",
       "      <td>73.40820</td>\n",
       "      <td>89.45000</td>\n",
       "      <td>53.24380</td>\n",
       "      <td>77.22000</td>\n",
       "    </tr>\n",
       "  </tbody>\n",
       "</table>\n",
       "</div>"
      ],
      "text/plain": [
       "                  A         B          C          D         E          G\n",
       "time                                                                    \n",
       "December  130.12800  123.7720  119.18700  154.39500  67.21400  128.72000\n",
       "February   64.90335   68.3645   58.71985   72.58495  44.63495   67.80995\n",
       "January   116.04850  143.6150  110.02200  145.60500  84.76495  125.78890\n",
       "November   76.77810   81.0566   73.40820   89.45000  53.24380   77.22000"
      ]
     },
     "execution_count": 8,
     "metadata": {},
     "output_type": "execute_result"
    }
   ],
   "source": [
    "#Group the null-free dataset by month (use datetime function strftime() with \n",
    "#argument '%B' to convert month number to month name)\n",
    "month_group = skopje_data_winters.groupby(skopje_data_winters['time'].dt.strftime('%B')).median()\n",
    "month_group"
   ]
  },
  {
   "cell_type": "code",
   "execution_count": 9,
   "metadata": {},
   "outputs": [
    {
     "data": {
      "image/png": "[encoded data removed]",
      "text/plain": [
       "<Figure size 432x288 with 1 Axes>"
      ]
     },
     "metadata": {
      "needs_background": "light"
     },
     "output_type": "display_data"
    }
   ],
   "source": [
    "#Plot the results\n",
    "pd.set_option('display.float_format', '{:.2f}'.format) #Use this to remove scientific notation from large numbers\n",
    "top_months = month_group.sum(axis=1).sort_values(ascending=False)\n",
    "top_months.plot.barh()\n",
    "plt.show()"
   ]
  },
  {
   "cell_type": "markdown",
   "metadata": {},
   "source": [
    "The three worst months summing total pollution across stations are January, December and November. In this the median was use to rank each month, but the mean yielded the same months.\n",
    "\n",
    "### Which measuring station has the highest ratings on average?"
   ]
  },
  {
   "cell_type": "code",
   "execution_count": 25,
   "metadata": {},
   "outputs": [
    {
     "data": {
      "image/png": "[encoded data removed]",
      "text/plain": [
       "<Figure size 432x288 with 1 Axes>"
      ]
     },
     "metadata": {
      "needs_background": "light"
     },
     "output_type": "display_data"
    }
   ],
   "source": [
    "#Apply mean function to get the mean of each column\n",
    "top_stations = skopje_data_winters[['A','B','C','D','E','G']].apply(np.mean).sort_values(ascending=False)\n",
    "\n",
    "#Plot results\n",
    "ax = top_stations.plot.barh()\n",
    "for i in ax.patches:\n",
    "        ax.annotate(str(round(i.get_width(),2)), (i.get_width(), i.get_y()),fontsize=9)\n",
    "plt.show()"
   ]
  },
  {
   "cell_type": "markdown",
   "metadata": {},
   "source": [
    "Measuring Station D has the highest ratings on average with 158.44 PM10."
   ]
  },
  {
   "cell_type": "code",
   "execution_count": 45,
   "metadata": {},
   "outputs": [
    {
     "data": {
      "image/png": "[encoded data removed]",
      "text/plain": [
       "<Figure size 432x288 with 1 Axes>"
      ]
     },
     "metadata": {},
     "output_type": "display_data"
    }
   ],
   "source": [
    "#Pie chart\n",
    "explode = top_stations.values*.001\n",
    "top_stations.plot.pie(explode=explode, autopct='%1.0f%%',radius=1.54)\n",
    "plt.ylabel('')\n",
    "plt.show()"
   ]
  },
  {
   "cell_type": "markdown",
   "metadata": {},
   "source": [
    "### Which is the worst month per measuring station on average? Is it the same for them all?"
   ]
  },
  {
   "cell_type": "code",
   "execution_count": 54,
   "metadata": {},
   "outputs": [
    {
     "data": {
      "image/png": "[encoded data removed]",
      "text/plain": [
       "<Figure size 432x288 with 6 Axes>"
      ]
     },
     "metadata": {
      "needs_background": "light"
     },
     "output_type": "display_data"
    }
   ],
   "source": [
    "#Group by month name\n",
    "top_station_months = skopje_data_winters.groupby(skopje_data_winters['time'].dt.strftime('%B')).mean()\n",
    "#Plot\n",
    "top_station_months.plot(kind='barh',subplots=True, layout=(2,3),\n",
    "                        sharey=True,legend=False,title='Average Monthly Ratings per Station')\n",
    "plt.subplots_adjust(hspace=0.5) #Adjust space between subplots\n",
    "plt.xlabel('PM10')\n",
    "plt.show()"
   ]
  },
  {
   "cell_type": "markdown",
   "metadata": {},
   "source": [
    "We can see that January and December are both higher months on average for each station, with December being highest in all except for Stations 'B' and 'E' where January is higher.\n",
    "\n",
    "### Make a horizontal bar chart showing how many days in total the measurements have been over 50 and over 200 for each.\n",
    "The objective here is to measure the total amount of days that each station rated the air pollution over 50 PM10 and over 200 PM10 during the 5 winters."
   ]
  },
  {
   "cell_type": "code",
   "execution_count": 94,
   "metadata": {},
   "outputs": [
    {
     "data": {
      "image/png": "[encoded data removed]",
      "text/plain": [
       "<Figure size 432x288 with 1 Axes>"
      ]
     },
     "metadata": {
      "needs_background": "light"
     },
     "output_type": "display_data"
    },
    {
     "data": {
      "image/png": "[encoded data removed]",
      "text/plain": [
       "<Figure size 432x288 with 1 Axes>"
      ]
     },
     "metadata": {
      "needs_background": "light"
     },
     "output_type": "display_data"
    }
   ],
   "source": [
    "#Create a new dataframe with date as Index to make the counting easier\n",
    "skopje_data_new_index = skopje_data_winters.set_index('time')\n",
    "\n",
    "#Create a function to make it customizable to other thresholds\n",
    "def number_of_days(df,columns,threshold):\n",
    "    '''\n",
    "    df: dataframe\n",
    "    columns: columns to use from the dataframe\n",
    "    threshold: PM10 limit \n",
    "    Returns nothing. It plots the results.\n",
    "    '''\n",
    "    #Filter values over the PM10 threshold\n",
    "    over_thresh = df[df[columns]>threshold]\n",
    "    #group values by year, month and day, each day will have up to 24 values\n",
    "    over_thresh_group = over_thresh.groupby([over_thresh.index.year,\n",
    "                                             over_thresh.index.month,over_thresh.index.day]).count()\n",
    "    \n",
    "    #Count all values whose count is greater than zero, meaning they had a 50 rating at least once during the day\n",
    "    total_days = over_thresh_group[over_thresh_group[columns]>0].count().sort_values()\n",
    "    ax = total_days.plot.barh()\n",
    "    for p in ax.patches:\n",
    "        ax.annotate(str(round(p.get_width(),2)), (p.get_width(), p.get_y()),fontsize=9)\n",
    "    plt.title('Total Number of Days Above %d PM10'% threshold)\n",
    "    plt.show()\n",
    "\n",
    "    \n",
    "#Use the function    \n",
    "cols = ['A','B','C','D','E','G']\n",
    "number_of_days(skopje_data_new_index,cols,50)\n",
    "number_of_days(skopje_data_new_index,cols,200)"
   ]
  },
  {
   "cell_type": "markdown",
   "metadata": {},
   "source": [
    "As the plots suggest station 'B' had the most number of days over 50 PM10 and station 'D' had most days over 200 PM10 during the 5 winters."
   ]
  }
 ],
 "metadata": {
  "kernelspec": {
   "display_name": "Python 3",
   "language": "python",
   "name": "python3"
  },
  "language_info": {
   "codemirror_mode": {
    "name": "ipython",
    "version": 3
   },
   "file_extension": ".py",
   "mimetype": "text/x-python",
   "name": "python",
   "nbconvert_exporter": "python",
   "pygments_lexer": "ipython3",
   "version": "3.7.3"
  }
 },
 "nbformat": 4,
 "nbformat_minor": 2
}
