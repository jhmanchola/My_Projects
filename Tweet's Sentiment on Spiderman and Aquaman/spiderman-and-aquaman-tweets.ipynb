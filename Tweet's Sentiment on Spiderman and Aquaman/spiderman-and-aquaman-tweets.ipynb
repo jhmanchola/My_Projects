{
 "cells": [
  {
   "cell_type": "markdown",
   "metadata": {
    "_uuid": "72e76e0741416665056bc03881fbde396adcc15b"
   },
   "source": [
    "# Twitterverse Sentiment Analysis for Spiderman: Into The Spider-Verse(2018)  and Aquaman(2018) Movies\n",
    "![text](twitter_movies.png \"twitter.com\")\n",
    "Gathering 1600 tweets with the Spiderman hashtag, and 1600 tweets using #Aquaman, the following graph was produced with the results from a trained Naive Bayes Classifier, a model that classified the sentiments of text as positive or negative. Note that no neutral category was given, so every tweet had to fall in either one of the two categories. Help in getting a thorough categorization will be appreciated."
   ]
  },
  {
   "cell_type": "code",
   "execution_count": 1,
   "metadata": {
    "_kg_hide-input": true,
    "_kg_hide-output": true,
    "_uuid": "6c4904a7aa3927daf2dfd5cd084c8ca4d6ce73e1"
   },
   "outputs": [
    {
     "name": "stdout",
     "output_type": "stream",
     "text": [
      "['negative_tweets.json', 'positive_tweets.json', 'tweets.20150430-223406.json']\n"
     ]
    }
   ],
   "source": [
    "#Get the twitter_samples database with 5000 positive tweets and 5000 negative tweets\n",
    "import nltk\n",
    "# nltk.download(\"twitter_samples\")\n",
    "from nltk.corpus import twitter_samples\n",
    "print (twitter_samples.fileids())#Should show three files"
   ]
  },
  {
   "cell_type": "code",
   "execution_count": 2,
   "metadata": {
    "_kg_hide-input": true,
    "_kg_hide-output": true,
    "_uuid": "f8bd3a5c4d20b984663aa3319f74ddac59bf885c"
   },
   "outputs": [
    {
     "name": "stdout",
     "output_type": "stream",
     "text": [
      "Test tweets: 2000 Train tweets: 8000\n"
     ]
    }
   ],
   "source": [
    "#Clean and Tokenize tweets\n",
    "import string\n",
    "import re\n",
    " \n",
    "from nltk.corpus import stopwords \n",
    "stopwords_english = stopwords.words('english')\n",
    " \n",
    "from nltk.stem import PorterStemmer\n",
    "stemmer = PorterStemmer() #Used to reduce words to their stem word ('likely' becomes 'like')\n",
    "\n",
    "from nltk.tokenize import TweetTokenizer\n",
    "\n",
    "#Use a variable for the positive, negative and all tweets using their respective file name:\n",
    "pos_tweets = twitter_samples.strings('positive_tweets.json')\n",
    "neg_tweets = twitter_samples.strings('negative_tweets.json')\n",
    "all_tweets = twitter_samples.strings('tweets.20150430-223406.json')\n",
    "\n",
    "#Choose elements to remove:\n",
    "# Happy Emoticons, extracted from http://blog.chapagain.com.np\n",
    "emoticons_happy = set([\n",
    "    ':-)', ':)', ';)', ':o)', ':]', ':3', ':c)', ':>', '=]', '8)', '=)', ':}',\n",
    "    ':^)', ':-D', ':D', '8-D', '8D', 'x-D', 'xD', 'X-D', 'XD', '=-D', '=D',\n",
    "    '=-3', '=3', ':-))', \":'-)\", \":')\", ':*', ':^*', '>:P', ':-P', ':P', 'X-P',\n",
    "    'x-p', 'xp', 'XP', ':-p', ':p', '=p', ':-b', ':b', '>:)', '>;)', '>:-)',\n",
    "    '<3'\n",
    "    ])\n",
    "# Sad Emoticons, extracted from http://blog.chapagain.com.np\n",
    "emoticons_sad = set([\n",
    "    ':L', ':-/', '>:/', ':S', '>:[', ':@', ':-(', ':[', ':-||', '=L', ':<',\n",
    "    ':-[', ':-<', '=\\\\', '=/', '>:(', ':(', '>.<', \":'-(\", \":'(\", ':\\\\', ':-c',\n",
    "    ':c', ':{', '>:\\\\', ';('\n",
    "    ])\n",
    "# all emoticons (happy + sad)\n",
    "emoticons = emoticons_happy.union(emoticons_sad)\n",
    "\n",
    "def cleanAndTokenizeTweets(tweet):\n",
    "    #Code extracted from http://blog.chapagain.com.np\n",
    "    # remove stock market tickers like $GE\n",
    "    tweet = re.sub(r'\\$\\w*', '', tweet)\n",
    " \n",
    "    # remove old style retweet text \"RT\"\n",
    "    tweet = re.sub(r'^RT[\\s]+', '', tweet)\n",
    " \n",
    "    # remove hyperlinks\n",
    "    tweet = re.sub(r'https?:\\/\\/.*[\\r\\n]*', '', tweet)\n",
    "    \n",
    "    # remove hashtags\n",
    "    # only removing the hash # sign from the word\n",
    "    tweet = re.sub(r'#', '', tweet)\n",
    " \n",
    "    # tokenize tweets\n",
    "    tokenizer = TweetTokenizer(preserve_case=False, strip_handles=True, reduce_len=True)\n",
    "    tweet_tokens = tokenizer.tokenize(tweet)\n",
    " \n",
    "    tweets_clean = []    \n",
    "    for word in tweet_tokens:\n",
    "        if (word not in stopwords_english and # remove stopwords\n",
    "              word not in emoticons and # remove emoticons\n",
    "                word not in string.punctuation): # remove punctuation\n",
    "            #tweets_clean.append(word)\n",
    "            stem_word = stemmer.stem(word) # stemming word\n",
    "            tweets_clean.append(stem_word)\n",
    " \n",
    "    return tweets_clean\n",
    "\n",
    "#Create a bag of words function that cleans and tokenizes tweets, then returns the bag.\n",
    "def bag_of_words(tweet):\n",
    "    words = cleanAndTokenizeTweets(tweet)\n",
    "    words_dictionary = dict([word, True] for word in words)    \n",
    "    return words_dictionary\n",
    "\n",
    "#Create a list of bags of words with all positive tweets\n",
    "pos_tweets_set = []\n",
    "for tweet in pos_tweets:\n",
    "    pos_tweets_set.append((bag_of_words(tweet), 'pos')) \n",
    "    \n",
    "#Create a list of bags of words with all negative tweets\n",
    "neg_tweets_set = []\n",
    "for tweet in neg_tweets:\n",
    "    neg_tweets_set.append((bag_of_words(tweet), 'neg'))\n",
    "\n",
    "# Radomize pos_reviews_set and neg_reviews_set\n",
    "# doing so will output different accuracy result everytime we run the program\n",
    "from random import shuffle \n",
    "shuffle(pos_tweets_set)\n",
    "shuffle(neg_tweets_set)\n",
    " \n",
    "test_set = pos_tweets_set[:1000] + neg_tweets_set[:1000]\n",
    "train_set = pos_tweets_set[1000:] + neg_tweets_set[1000:]\n",
    "\n",
    "#Print the resulting number of Test tweets and Train tweets\n",
    "print('Test tweets:',len(test_set),'Train tweets:',len(train_set))\n",
    "\n",
    "#Training Classifier and Calculating Accuracy\n",
    "from nltk import classify\n",
    "from nltk import NaiveBayesClassifier\n",
    " \n",
    "classifier = NaiveBayesClassifier.train(train_set)\n",
    " \n",
    "accuracy = classify.accuracy(classifier, test_set)\n",
    "\n",
    "from collections import defaultdict\n",
    "from nltk.metrics import precision, recall, f_measure, ConfusionMatrix\n",
    "\n",
    "actual_set = defaultdict(set)\n",
    "predicted_set = defaultdict(set)\n",
    " \n",
    "actual_set_cm = []\n",
    "predicted_set_cm = []\n",
    " \n",
    "for index, (feature, actual_label) in enumerate(test_set):\n",
    "    actual_set[actual_label].add(index)\n",
    "    actual_set_cm.append(actual_label)\n",
    " \n",
    "    predicted_label = classifier.classify(feature)\n",
    " \n",
    "    predicted_set[predicted_label].add(index)\n",
    "    predicted_set_cm.append(predicted_label)"
   ]
  },
  {
   "cell_type": "code",
   "execution_count": 3,
   "metadata": {
    "_kg_hide-input": true,
    "_uuid": "9b3dcdccf0106dca3361ff21b6bca09f0072c48f"
   },
   "outputs": [],
   "source": [
    "#Now use the created model with the Spiderman and Aquaman tweets:\n",
    "import pandas as pd\n",
    "SpidermanDF = pd.read_csv('Spiderman Tweets')\n",
    "\n",
    "#Create bag of words for each of the SpiderVerse tweets\n",
    "Spider_text_set = []\n",
    "for text in SpidermanDF['Text']:\n",
    "    Spider_text_set.append(bag_of_words(text))\n",
    "\n",
    "#Classify each bag of words\n",
    "Spider_result = []\n",
    "for bag in Spider_text_set:\n",
    "    Spider_result.append(classifier.classify(bag))\n",
    "\n",
    "SpidermanDF['Sentiment'] = Spider_result #Create a column in the df with the category given\n",
    "\n",
    "plotSeries1 = SpidermanDF['Sentiment'].value_counts()\n",
    "\n",
    "AquamanDF = pd.read_csv('Aquaman Tweets')\n",
    "\n",
    "Aquaman_text_set = []\n",
    "for text in AquamanDF['Text']:\n",
    "    Aquaman_text_set.append(bag_of_words(text))\n",
    "\n",
    "#Classify each bag of words\n",
    "Aquaman_result = []\n",
    "for bag in Aquaman_text_set:\n",
    "    Aquaman_result.append(classifier.classify(bag))\n",
    "\n",
    "AquamanDF['Sentiment'] = Aquaman_result #Create a column with the category given\n",
    "plotSeries2 = AquamanDF['Sentiment'].value_counts()"
   ]
  },
  {
   "cell_type": "code",
   "execution_count": 5,
   "metadata": {
    "_kg_hide-input": true,
    "_uuid": "9b3dcdccf0106dca3361ff21b6bca09f0072c48f"
   },
   "outputs": [
    {
     "data": {
      "image/png": "[encoded data removed]",
      "text/plain": [
       "<Figure size 720x576 with 1 Axes>"
      ]
     },
     "metadata": {},
     "output_type": "display_data"
    }
   ],
   "source": [
    "#PLOT\n",
    "#The following code creates a stacked bar chart with two bars,\n",
    "#one for the positive sentiment and the other for the negative.\n",
    "import matplotlib.pyplot as plt\n",
    "plt.style.use('ggplot')\n",
    "\n",
    "fig = plt.figure(facecolor=\"white\",figsize=(10,8))\n",
    "bar_width = 0.38\n",
    "ax = fig.add_subplot(1, 1, 1)\n",
    "r = [0,0.5] # x-axis values to locate both bars [bar1,bar2]\n",
    "tick_pos = [i + (bar_width/50) for i in r] # Position of the x-axis ticks\n",
    "\n",
    "ax1 = ax.bar(r, plotSeries1.values, \n",
    "             width=bar_width, label='Spiderman', \n",
    "             color='#B11313',edgecolor='white' )\n",
    "ax2 = ax.bar(r, plotSeries2.values, \n",
    "             bottom=plotSeries1.values, \n",
    "             width=bar_width, label='Aquaman', \n",
    "             color='#006994',edgecolor='white')\n",
    "\n",
    "ax.set_ylabel(\"Count\", fontsize=14, style='italic')\n",
    "ax.set_xlabel(\"Sentiment\", fontsize=14, style='italic')\n",
    "ax.legend(loc='best')\n",
    "plt.xticks(tick_pos, [\"Positive\", \"Negative\"], fontsize=14)\n",
    "plt.yticks(fontsize=13)\n",
    "\n",
    "for r1, r2 in zip(ax1, ax2): #Code to configure text inside each bar\n",
    "    h1 = r1.get_height() #get height of bar to then divide by 2 and find center\n",
    "    h2 = r2.get_height() \n",
    "    plt.text(r1.get_x() + r1.get_width() / 2., h1 / 2., \"%d\" % h1, ha=\"center\", va=\"center\", \n",
    "             color=\"white\", fontsize=13, fontweight=\"bold\")\n",
    "    plt.text(r2.get_x() + r2.get_width() / 2., h1 + h2 / 2., \"%d\" % h2, ha=\"center\", va=\"center\", \n",
    "             color=\"white\", fontsize=13, fontweight=\"bold\")\n",
    "plt.legend(prop={'size': 13})\n",
    "plt.title('Sentiment Analysis on Tweets about\\n Spiderman and Aquaman Movies')\n",
    "plt.show()"
   ]
  },
  {
   "cell_type": "markdown",
   "metadata": {
    "_uuid": "c8bdad59d1e0ef57b2e14bc91c03bc8a37964514"
   },
   "source": [
    "## Box Office Results (as of Jan 8 2019):\n",
    "How popular are these movies in terms of ticket sales? The total US box office grosses for each movie are given below:\n",
    "\n",
    "__*<font color=#006994>Aquaman(2018) :  USD 266,460,074</font>*__\n",
    "\n",
    "__*<font color=#B11313>Spiderman: Into The Spider-Verse(2018) :  USD 136,847,588</font>*__"
   ]
  },
  {
   "cell_type": "markdown",
   "metadata": {
    "_uuid": "3b6515841bfc1a313ffd053467a237298e3c19c4"
   },
   "source": [
    "## Classifier Precision Stats\n",
    "pos = positive\n",
    "\n",
    "neg = negative"
   ]
  },
  {
   "cell_type": "code",
   "execution_count": 6,
   "metadata": {
    "_kg_hide-input": true,
    "_kg_hide-output": false,
    "_uuid": "f63287340d448cc56ff6a3beda227a12aac11c97"
   },
   "outputs": [
    {
     "name": "stdout",
     "output_type": "stream",
     "text": [
      "pos precision: 75.17 %\n",
      "pos recall: 77.5 %\n",
      "pos F-measure: 76.32 %\n",
      "neg precision: 76.78 %\n",
      "neg recall: 74.4 %\n",
      "neg F-measure: 75.6 %\n"
     ]
    }
   ],
   "source": [
    "print('pos precision:',round(\n",
    "    precision(actual_set['pos'], predicted_set['pos']),4)*100,'%')\n",
    "print('pos recall:',round(\n",
    "    recall(actual_set['pos'], predicted_set['pos']),4)*100,'%') \n",
    "print('pos F-measure:',round(\n",
    "    f_measure(actual_set['pos'], predicted_set['pos']),4)*100,'%')\n",
    "print('neg precision:',round(\n",
    "    precision(actual_set['neg'], predicted_set['neg']),4)*100,'%')\n",
    "print('neg recall:',round(\n",
    "    recall(actual_set['neg'], predicted_set['neg']),4)*100,'%') \n",
    "print('neg F-measure:',round(\n",
    "    f_measure(actual_set['neg'], predicted_set['neg']),3)*100,'%')"
   ]
  },
  {
   "cell_type": "markdown",
   "metadata": {
    "_uuid": "603a3b5197c05cb19ff4892d2a2727ce10338784"
   },
   "source": [
    "## Classifier Acurracy on Labeling Sentiment\n",
    "The following matrix shows that the classifier used in this case may have incorrectly labeled a percentage of tweets as negative/positive:"
   ]
  },
  {
   "cell_type": "code",
   "execution_count": 7,
   "metadata": {
    "_kg_hide-input": true,
    "_uuid": "ff496a93604d139d983b39ae3b30d318cf453fbc"
   },
   "outputs": [
    {
     "name": "stdout",
     "output_type": "stream",
     "text": [
      "    |      n      p |\n",
      "    |      e      o |\n",
      "    |      g      s |\n",
      "----+---------------+\n",
      "neg | <37.2%> 12.8% |\n",
      "pos |  11.2% <38.8%>|\n",
      "----+---------------+\n",
      "(row = reference; col = test)\n",
      "\n"
     ]
    }
   ],
   "source": [
    "cm = ConfusionMatrix(actual_set_cm, predicted_set_cm)\n",
    "print (cm.pretty_format(sort_by_count=True, show_percents=True, truncate=9))"
   ]
  },
  {
   "cell_type": "markdown",
   "metadata": {
    "_uuid": "84299b5b1d924a7f2ebc42816b9c4b911905d255"
   },
   "source": [
    "*Acknowledgements: Mukesh Chapagain in his blog found [here.](http://blog.chapagain.com.np/python-nltk-twitter-sentiment-analysis-natural-language-processing-nlp/)*"
   ]
  }
 ],
 "metadata": {
  "kernelspec": {
   "display_name": "Python 3",
   "language": "python",
   "name": "python3"
  },
  "language_info": {
   "codemirror_mode": {
    "name": "ipython",
    "version": 3
   },
   "file_extension": ".py",
   "mimetype": "text/x-python",
   "name": "python",
   "nbconvert_exporter": "python",
   "pygments_lexer": "ipython3",
   "version": "3.6.6"
  }
 },
 "nbformat": 4,
 "nbformat_minor": 1
}
