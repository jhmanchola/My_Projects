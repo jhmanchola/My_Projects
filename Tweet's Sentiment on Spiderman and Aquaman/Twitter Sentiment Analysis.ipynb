{
 "cells": [
  {
   "cell_type": "code",
   "execution_count": 1,
   "metadata": {},
   "outputs": [],
   "source": [
    "import pickle\n",
    "import os\n",
    "\n",
    "if not os.path.exists('secret_twitter_credentials.pkl'):\n",
    "    Twitter={}\n",
    "    Twitter['Consumer Key'] = ''\n",
    "    Twitter['Consumer Secret'] = ''\n",
    "    Twitter['Access Token'] = ''\n",
    "    Twitter['Access Token Secret'] = ''\n",
    "    with open('secret_twitter_credentials.pkl','wb') as f:\n",
    "        pickle.dump(Twitter, f)\n",
    "else:\n",
    "    Twitter=pickle.load(open('secret_twitter_credentials.pkl','rb')) #The .pkl file is already created.   "
   ]
  },
  {
   "cell_type": "code",
   "execution_count": 2,
   "metadata": {},
   "outputs": [
    {
     "name": "stdout",
     "output_type": "stream",
     "text": [
      "<twitter.api.Twitter object at 0x000001C828D32E10>\n"
     ]
    }
   ],
   "source": [
    "import twitter\n",
    "\n",
    "auth = twitter.oauth.OAuth(Twitter['Access Token'],\n",
    "                           Twitter['Access Token Secret'],\n",
    "                           Twitter['Consumer Key'],\n",
    "                           Twitter['Consumer Secret'])\n",
    "\n",
    "twitter_api = twitter.Twitter(auth=auth)\n",
    "print(twitter_api)"
   ]
  },
  {
   "cell_type": "code",
   "execution_count": 3,
   "metadata": {},
   "outputs": [],
   "source": [
    "WORLD_WOE_ID = 1\n",
    "US_WOE_ID = 23424977\n",
    "\n",
    "world_trends = twitter_api.trends.place(_id=WORLD_WOE_ID)\n",
    "us_trends = twitter_api.trends.place(_id=US_WOE_ID)"
   ]
  },
  {
   "cell_type": "code",
   "execution_count": 4,
   "metadata": {},
   "outputs": [],
   "source": [
    "import json\n",
    "\n",
    "# print((json.dumps(world_trends[:10], indent=1)))\n",
    "# print((json.dumps(us_trends[:10], indent=1)))"
   ]
  },
  {
   "cell_type": "markdown",
   "metadata": {},
   "source": [
    "## Spiderman Into The Spiderverse"
   ]
  },
  {
   "cell_type": "code",
   "execution_count": 5,
   "metadata": {},
   "outputs": [],
   "source": [
    "id_list = []\n",
    "text_list = []\n",
    "def searchTwitter(hashtag,max_id,count,lang):\n",
    "    subject = twitter_api.search.tweets(q=hashtag,count=count,max_id=max_id,lang=lang,result_type='mixed')\n",
    "    tweets = [dict(i) for i in subject['statuses']] \n",
    "    for i in range(len(tweets)):\n",
    "        text_list.append(tweets[i]['text'])\n",
    "        id_list.append(tweets[i]['id'])\n",
    "\n",
    "hashtag = '#SpiderVerse'\n",
    "count = 100\n",
    "result_multiple = 15\n",
    "searchTwitter(hashtag,False,count,'en')\n",
    "for t in range(result_multiple):\n",
    "    searchTwitter(hashtag,str(min(id_list)),count,'en')\n",
    "\n",
    "  "
   ]
  },
  {
   "cell_type": "code",
   "execution_count": 6,
   "metadata": {},
   "outputs": [
    {
     "data": {
      "text/plain": [
       "1600"
      ]
     },
     "execution_count": 6,
     "metadata": {},
     "output_type": "execute_result"
    }
   ],
   "source": [
    "len(id_list)"
   ]
  },
  {
   "cell_type": "code",
   "execution_count": 7,
   "metadata": {},
   "outputs": [],
   "source": [
    "import pandas as pd\n",
    "\n",
    "SpiderDf = pd.DataFrame()\n",
    "SpiderDf['ID'] = id_list\n",
    "SpiderDf['Text'] = text_list\n",
    "# SpiderDf.to_csv('Spiderman Tweets', sep=',', encoding='utf-8') #save data"
   ]
  },
  {
   "cell_type": "code",
   "execution_count": 8,
   "metadata": {},
   "outputs": [
    {
     "data": {
      "text/html": [
       "<div>\n",
       "<style scoped>\n",
       "    .dataframe tbody tr th:only-of-type {\n",
       "        vertical-align: middle;\n",
       "    }\n",
       "\n",
       "    .dataframe tbody tr th {\n",
       "        vertical-align: top;\n",
       "    }\n",
       "\n",
       "    .dataframe thead th {\n",
       "        text-align: right;\n",
       "    }\n",
       "</style>\n",
       "<table border=\"1\" class=\"dataframe\">\n",
       "  <thead>\n",
       "    <tr style=\"text-align: right;\">\n",
       "      <th></th>\n",
       "      <th>ID</th>\n",
       "      <th>Text</th>\n",
       "    </tr>\n",
       "  </thead>\n",
       "  <tbody>\n",
       "    <tr>\n",
       "      <th>0</th>\n",
       "      <td>1082691162941648896</td>\n",
       "      <td>Putting on my Hamilton blouse today w big #Spi...</td>\n",
       "    </tr>\n",
       "    <tr>\n",
       "      <th>1</th>\n",
       "      <td>1082786350053707776</td>\n",
       "      <td>#SpiderVerse rehearsal, #HamiltonPR https://t....</td>\n",
       "    </tr>\n",
       "    <tr>\n",
       "      <th>2</th>\n",
       "      <td>1082466481433014272</td>\n",
       "      <td>Meanwhile, in another, another universe... #Sp...</td>\n",
       "    </tr>\n",
       "    <tr>\n",
       "      <th>3</th>\n",
       "      <td>1083115135542181889</td>\n",
       "      <td>RT @Spider_Ren: Miles Back At It Again at kris...</td>\n",
       "    </tr>\n",
       "    <tr>\n",
       "      <th>4</th>\n",
       "      <td>1083115131066769408</td>\n",
       "      <td>RT @SonyAnimation: Congratulations to the #Spi...</td>\n",
       "    </tr>\n",
       "    <tr>\n",
       "      <th>5</th>\n",
       "      <td>1083115129741418496</td>\n",
       "      <td>RT @TheCabbagethief: Everyone can stop posting...</td>\n",
       "    </tr>\n",
       "    <tr>\n",
       "      <th>6</th>\n",
       "      <td>1083115116969816064</td>\n",
       "      <td>RT @Bakestain: My SPIDER-VERSE Personal Projec...</td>\n",
       "    </tr>\n",
       "    <tr>\n",
       "      <th>7</th>\n",
       "      <td>1083115114541318145</td>\n",
       "      <td>RT @kadeart: BEST GIRL #SpiderVerse https://t....</td>\n",
       "    </tr>\n",
       "    <tr>\n",
       "      <th>8</th>\n",
       "      <td>1083115112796438530</td>\n",
       "      <td>RT @Lin_Manuel: #SpiderVerse rehearsal, #Hamil...</td>\n",
       "    </tr>\n",
       "    <tr>\n",
       "      <th>9</th>\n",
       "      <td>1083115099605200896</td>\n",
       "      <td>RT @SonyAnimation: Congratulations to the #Spi...</td>\n",
       "    </tr>\n",
       "  </tbody>\n",
       "</table>\n",
       "</div>"
      ],
      "text/plain": [
       "                    ID                                               Text\n",
       "0  1082691162941648896  Putting on my Hamilton blouse today w big #Spi...\n",
       "1  1082786350053707776  #SpiderVerse rehearsal, #HamiltonPR https://t....\n",
       "2  1082466481433014272  Meanwhile, in another, another universe... #Sp...\n",
       "3  1083115135542181889  RT @Spider_Ren: Miles Back At It Again at kris...\n",
       "4  1083115131066769408  RT @SonyAnimation: Congratulations to the #Spi...\n",
       "5  1083115129741418496  RT @TheCabbagethief: Everyone can stop posting...\n",
       "6  1083115116969816064  RT @Bakestain: My SPIDER-VERSE Personal Projec...\n",
       "7  1083115114541318145  RT @kadeart: BEST GIRL #SpiderVerse https://t....\n",
       "8  1083115112796438530  RT @Lin_Manuel: #SpiderVerse rehearsal, #Hamil...\n",
       "9  1083115099605200896  RT @SonyAnimation: Congratulations to the #Spi..."
      ]
     },
     "execution_count": 8,
     "metadata": {},
     "output_type": "execute_result"
    }
   ],
   "source": [
    "SpiderDf.head(10)"
   ]
  },
  {
   "cell_type": "code",
   "execution_count": 9,
   "metadata": {},
   "outputs": [],
   "source": [
    "#Get the twitter_samples database with 5000 positive tweets and 5000 negative tweets\n",
    "import nltk\n",
    "# nltk.download(\"twitter_samples\")\n",
    "from nltk.corpus import twitter_samples\n",
    "# print (twitter_samples.fileids())"
   ]
  },
  {
   "cell_type": "code",
   "execution_count": 10,
   "metadata": {},
   "outputs": [],
   "source": [
    "#Clean and Tokenize tweets\n",
    "import string\n",
    "import re\n",
    " \n",
    "from nltk.corpus import stopwords \n",
    "stopwords_english = stopwords.words('english')\n",
    " \n",
    "from nltk.stem import PorterStemmer\n",
    "stemmer = PorterStemmer() #This is used to reduce the words to their stem word ('likely' becomes 'like').\n",
    "\n",
    "from nltk.tokenize import TweetTokenizer\n",
    "\n",
    "#Use a variable for the positive, negative and all tweets using their respective file name:\n",
    "pos_tweets = twitter_samples.strings('positive_tweets.json')\n",
    "neg_tweets = twitter_samples.strings('negative_tweets.json')\n",
    "all_tweets = twitter_samples.strings('tweets.20150430-223406.json')\n",
    "\n",
    "#Choose elements to remove:\n",
    "# Happy Emoticons\n",
    "emoticons_happy = set([\n",
    "    ':-)', ':)', ';)', ':o)', ':]', ':3', ':c)', ':>', '=]', '8)', '=)', ':}',\n",
    "    ':^)', ':-D', ':D', '8-D', '8D', 'x-D', 'xD', 'X-D', 'XD', '=-D', '=D',\n",
    "    '=-3', '=3', ':-))', \":'-)\", \":')\", ':*', ':^*', '>:P', ':-P', ':P', 'X-P',\n",
    "    'x-p', 'xp', 'XP', ':-p', ':p', '=p', ':-b', ':b', '>:)', '>;)', '>:-)',\n",
    "    '<3'\n",
    "    ])\n",
    "# Sad Emoticons\n",
    "emoticons_sad = set([\n",
    "    ':L', ':-/', '>:/', ':S', '>:[', ':@', ':-(', ':[', ':-||', '=L', ':<',\n",
    "    ':-[', ':-<', '=\\\\', '=/', '>:(', ':(', '>.<', \":'-(\", \":'(\", ':\\\\', ':-c',\n",
    "    ':c', ':{', '>:\\\\', ';('\n",
    "    ])\n",
    "# all emoticons (happy + sad)\n",
    "emoticons = emoticons_happy.union(emoticons_sad)\n",
    "\n",
    "def cleanAndTokenizeTweets(tweet):\n",
    "    # remove stock market tickers like $GE\n",
    "    tweet = re.sub(r'\\$\\w*', '', tweet)\n",
    " \n",
    "    # remove old style retweet text \"RT\"\n",
    "    tweet = re.sub(r'^RT[\\s]+', '', tweet)\n",
    " \n",
    "    # remove hyperlinks\n",
    "    tweet = re.sub(r'https?:\\/\\/.*[\\r\\n]*', '', tweet)\n",
    "    \n",
    "    # remove hashtags\n",
    "    # only removing the hash # sign from the word\n",
    "    tweet = re.sub(r'#', '', tweet)\n",
    " \n",
    "    # tokenize tweets\n",
    "    tokenizer = TweetTokenizer(preserve_case=False, strip_handles=True, reduce_len=True)\n",
    "    tweet_tokens = tokenizer.tokenize(tweet)\n",
    " \n",
    "    tweets_clean = []    \n",
    "    for word in tweet_tokens:\n",
    "        if (word not in stopwords_english and # remove stopwords\n",
    "              word not in emoticons and # remove emoticons\n",
    "                word not in string.punctuation): # remove punctuation\n",
    "            #tweets_clean.append(word)\n",
    "            stem_word = stemmer.stem(word) # stemming word\n",
    "            tweets_clean.append(stem_word)\n",
    " \n",
    "    return tweets_clean"
   ]
  },
  {
   "cell_type": "code",
   "execution_count": 11,
   "metadata": {},
   "outputs": [
    {
     "name": "stdout",
     "output_type": "stream",
     "text": [
      "5000 5000\n"
     ]
    }
   ],
   "source": [
    "#Create a bag of words function that cleans and tokenizes tweets, then returns the bag.\n",
    "def bag_of_words(tweet):\n",
    "    words = cleanAndTokenizeTweets(tweet)\n",
    "    words_dictionary = dict([word, True] for word in words)    \n",
    "    return words_dictionary\n",
    "\n",
    "#Create a list of bags of words with all positive tweets\n",
    "pos_tweets_set = []\n",
    "for tweet in pos_tweets:\n",
    "    pos_tweets_set.append((bag_of_words(tweet), 'pos')) \n",
    "    \n",
    "#Create a list of bags of words with all negative tweets\n",
    "neg_tweets_set = []\n",
    "for tweet in neg_tweets:\n",
    "    neg_tweets_set.append((bag_of_words(tweet), 'neg'))\n",
    "\n",
    "print (len(pos_tweets_set), len(neg_tweets_set)) #Check the legths of each"
   ]
  },
  {
   "cell_type": "code",
   "execution_count": 12,
   "metadata": {},
   "outputs": [
    {
     "name": "stdout",
     "output_type": "stream",
     "text": [
      "2000 8000\n"
     ]
    }
   ],
   "source": [
    "# Radomize pos_reviews_set and neg_reviews_set\n",
    "# doing so will output different accuracy result everytime we run the program\n",
    "from random import shuffle \n",
    "shuffle(pos_tweets_set)\n",
    "shuffle(neg_tweets_set)\n",
    " \n",
    "test_set = pos_tweets_set[:1000] + neg_tweets_set[:1000]\n",
    "train_set = pos_tweets_set[1000:] + neg_tweets_set[1000:]\n",
    " \n",
    "print(len(test_set),  len(train_set)) # Check the number of tweets in test and train"
   ]
  },
  {
   "cell_type": "code",
   "execution_count": 13,
   "metadata": {},
   "outputs": [
    {
     "name": "stdout",
     "output_type": "stream",
     "text": [
      "0.73\n",
      "Most Informative Features\n",
      "                     via = True              pos : neg    =     35.0 : 1.0\n",
      "                     bam = True              pos : neg    =     26.3 : 1.0\n",
      "                    sick = True              neg : pos    =     24.3 : 1.0\n",
      "                     sad = True              neg : pos    =     21.2 : 1.0\n",
      "                 appreci = True              pos : neg    =     20.3 : 1.0\n",
      "                     x15 = True              neg : pos    =     19.0 : 1.0\n",
      "                     ugh = True              neg : pos    =     15.0 : 1.0\n",
      "                    glad = True              pos : neg    =     13.8 : 1.0\n",
      "                 perfect = True              pos : neg    =     13.0 : 1.0\n",
      "                  welcom = True              pos : neg    =     13.0 : 1.0\n",
      "None\n"
     ]
    }
   ],
   "source": [
    "#Training Classifier and Calculating Accuracy\n",
    "from nltk import classify\n",
    "from nltk import NaiveBayesClassifier\n",
    " \n",
    "classifier = NaiveBayesClassifier.train(train_set)\n",
    " \n",
    "accuracy = classify.accuracy(classifier, test_set)\n",
    "print(accuracy)\n",
    "print (classifier.show_most_informative_features(10))    "
   ]
  },
  {
   "cell_type": "code",
   "execution_count": 14,
   "metadata": {},
   "outputs": [
    {
     "name": "stdout",
     "output_type": "stream",
     "text": [
      "neg\n",
      "pos\n"
     ]
    }
   ],
   "source": [
    "#Testing Classifier with Custom Tweet\n",
    "#Custom negative tweet\n",
    "custom_tweet_neg = \"I hated the film. It was a disaster. Poor direction, bad acting.\"\n",
    "custom_tweetNeg_set = bag_of_words(custom_tweet_neg)\n",
    "print (classifier.classify(custom_tweetNeg_set))\n",
    "\n",
    "custom_tweet_pos = \"It was a wonderful and amazing movie. I loved it. Best direction, good acting.\"\n",
    "custom_tweetPos_set = bag_of_words(custom_tweet_pos)\n",
    "print (classifier.classify(custom_tweetPos_set))"
   ]
  },
  {
   "cell_type": "markdown",
   "metadata": {},
   "source": [
    "### Precision, Recall & F1-Score\n",
    "__Accuracy__ is (correctly predicted observation) / (total observation).\n",
    "\n",
    "__Precision__ is about being precise.\n",
    "\n",
    "– It shows how many correct predictions were given.\n",
    "\n",
    "– For example, out of 100 questions, if you answered only 1 question and answered it correctly then you will have 100% precision.\n",
    "\n",
    "– It’s about checking how often the classifier predicts the result correctly.\n",
    "\n",
    "__Recall__ (as opposed to precision)\n",
    "\n",
    "– is about answering all questions that have the answer “true” with the answer “true”.\n",
    "\n",
    "– It’s about checking how often does the classifier predicts “yes” when the result is actually “yes”.\n",
    "\n",
    "__F1 Score or F-measure:__ Harmonic mean of recall and precision."
   ]
  },
  {
   "cell_type": "code",
   "execution_count": 15,
   "metadata": {},
   "outputs": [
    {
     "name": "stdout",
     "output_type": "stream",
     "text": [
      "pos precision: 0.7380952380952381\n",
      "pos recall: 0.713\n",
      "pos F-measure: 0.7253306205493388\n",
      "neg precision: 0.7224371373307543\n",
      "neg recall: 0.747\n",
      "neg F-measure: 0.7345132743362831\n"
     ]
    }
   ],
   "source": [
    "from collections import defaultdict\n",
    "from nltk.metrics import precision, recall, f_measure, ConfusionMatrix\n",
    "\n",
    "actual_set = defaultdict(set)\n",
    "predicted_set = defaultdict(set)\n",
    " \n",
    "actual_set_cm = []\n",
    "predicted_set_cm = []\n",
    " \n",
    "for index, (feature, actual_label) in enumerate(test_set):\n",
    "    actual_set[actual_label].add(index)\n",
    "    actual_set_cm.append(actual_label)\n",
    " \n",
    "    predicted_label = classifier.classify(feature)\n",
    " \n",
    "    predicted_set[predicted_label].add(index)\n",
    "    predicted_set_cm.append(predicted_label)\n",
    "\n",
    "print('pos precision:', precision(actual_set['pos'], predicted_set['pos']))\n",
    "print('pos recall:', recall(actual_set['pos'], predicted_set['pos'])) \n",
    "print('pos F-measure:', f_measure(actual_set['pos'], predicted_set['pos']))\n",
    "print('neg precision:', precision(actual_set['neg'], predicted_set['neg']))\n",
    "print('neg recall:', recall(actual_set['neg'], predicted_set['neg'])) \n",
    "print('neg F-measure:', f_measure(actual_set['neg'], predicted_set['neg'])) "
   ]
  },
  {
   "cell_type": "code",
   "execution_count": 16,
   "metadata": {},
   "outputs": [
    {
     "name": "stdout",
     "output_type": "stream",
     "text": [
      "    |   n   p |\n",
      "    |   e   o |\n",
      "    |   g   s |\n",
      "----+---------+\n",
      "neg |<747>253 |\n",
      "pos | 287<713>|\n",
      "----+---------+\n",
      "(row = reference; col = test)\n",
      "\n",
      "    |      n      p |\n",
      "    |      e      o |\n",
      "    |      g      s |\n",
      "----+---------------+\n",
      "neg | <37.4%> 12.7% |\n",
      "pos |  14.3% <35.6%>|\n",
      "----+---------------+\n",
      "(row = reference; col = test)\n",
      "\n"
     ]
    }
   ],
   "source": [
    "#The confusion matrix describes the performance of the classifier.\n",
    "#When you see the matrix, the result in (negative row, negative column) is the number of correct negatives,\n",
    "#same for (positive row, positive column). The result in (negative row, positive column) is number of\n",
    "#incorrect negatives.\n",
    "# Confusion Matrix for the test set\n",
    "# \n",
    "# Output: \n",
    "# row = actual_set_cm \n",
    "# column = predicted_set_cm\n",
    "cm = ConfusionMatrix(actual_set_cm, predicted_set_cm)\n",
    "print (cm)\n",
    " \n",
    "print (cm.pretty_format(sort_by_count=True, show_percents=True, truncate=9))\n"
   ]
  },
  {
   "cell_type": "code",
   "execution_count": 17,
   "metadata": {},
   "outputs": [],
   "source": [
    "#Create bag of words for each of the SpiderVerse tweets\n",
    "Spider_text_set = []\n",
    "for text in SpiderDf['Text']:\n",
    "    Spider_text_set.append(bag_of_words(text))\n",
    "\n",
    "#Classify each bag of words\n",
    "Spider_result = []\n",
    "for bag in Spider_text_set:\n",
    "    Spider_result.append(classifier.classify(bag))\n",
    "    \n",
    "    "
   ]
  },
  {
   "cell_type": "code",
   "execution_count": 18,
   "metadata": {},
   "outputs": [
    {
     "data": {
      "text/plain": [
       "<Figure size 640x480 with 1 Axes>"
      ]
     },
     "metadata": {},
     "output_type": "display_data"
    }
   ],
   "source": [
    "SpiderDf['Sentiment'] = Spider_result\n",
    "\n",
    "plotSeries = SpiderDf['Sentiment'].value_counts()\n",
    "\n",
    "import pylab\n",
    "\n",
    "pylab.bar(plotSeries.index,plotSeries.values)\n",
    "pylab.show()"
   ]
  },
  {
   "cell_type": "markdown",
   "metadata": {},
   "source": [
    "## Aquaman"
   ]
  },
  {
   "cell_type": "code",
   "execution_count": 19,
   "metadata": {},
   "outputs": [
    {
     "data": {
      "text/plain": [
       "1600"
      ]
     },
     "execution_count": 19,
     "metadata": {},
     "output_type": "execute_result"
    }
   ],
   "source": [
    "id_list = []\n",
    "text_list = []\n",
    "def searchTwitter(hashtag,max_id,count,lang):\n",
    "    subject = twitter_api.search.tweets(q=hashtag,count=count,max_id=max_id,lang=lang,result_type='mixed')\n",
    "    tweets = [dict(i) for i in subject['statuses']] \n",
    "    for i in range(len(tweets)):\n",
    "        text_list.append(tweets[i]['text'])\n",
    "        id_list.append(tweets[i]['id'])\n",
    "\n",
    "hashtag = '#Aquaman'\n",
    "count = 100\n",
    "result_multiple = 15\n",
    "searchTwitter(hashtag,False,count,'en')\n",
    "for t in range(result_multiple):\n",
    "    searchTwitter(hashtag,str(min(id_list)),count,'en')\n",
    "\n",
    "len(id_list)"
   ]
  },
  {
   "cell_type": "code",
   "execution_count": 23,
   "metadata": {},
   "outputs": [
    {
     "data": {
      "text/html": [
       "<div>\n",
       "<style scoped>\n",
       "    .dataframe tbody tr th:only-of-type {\n",
       "        vertical-align: middle;\n",
       "    }\n",
       "\n",
       "    .dataframe tbody tr th {\n",
       "        vertical-align: top;\n",
       "    }\n",
       "\n",
       "    .dataframe thead th {\n",
       "        text-align: right;\n",
       "    }\n",
       "</style>\n",
       "<table border=\"1\" class=\"dataframe\">\n",
       "  <thead>\n",
       "    <tr style=\"text-align: right;\">\n",
       "      <th></th>\n",
       "      <th>ID</th>\n",
       "      <th>Text</th>\n",
       "    </tr>\n",
       "  </thead>\n",
       "  <tbody>\n",
       "    <tr>\n",
       "      <th>0</th>\n",
       "      <td>1082820760140423169</td>\n",
       "      <td>RT &amp;amp; follow @OriginalFunko for a chance to...</td>\n",
       "    </tr>\n",
       "    <tr>\n",
       "      <th>1</th>\n",
       "      <td>1082608655160078336</td>\n",
       "      <td>Marvel President Kevin Feige really enjoyed #A...</td>\n",
       "    </tr>\n",
       "    <tr>\n",
       "      <th>2</th>\n",
       "      <td>1082609842873864194</td>\n",
       "      <td>Y’all really came on here to say #Aquaman was ...</td>\n",
       "    </tr>\n",
       "    <tr>\n",
       "      <th>3</th>\n",
       "      <td>1083115638053310475</td>\n",
       "      <td>My quick review of #Aquaman : I had a hell of ...</td>\n",
       "    </tr>\n",
       "    <tr>\n",
       "      <th>4</th>\n",
       "      <td>1083115634261676033</td>\n",
       "      <td>Wow, #Aquaman was really enjoyable. Knock-off ...</td>\n",
       "    </tr>\n",
       "    <tr>\n",
       "      <th>5</th>\n",
       "      <td>1083115586035609603</td>\n",
       "      <td>RT @Dommnics: Here's something I drew in celeb...</td>\n",
       "    </tr>\n",
       "    <tr>\n",
       "      <th>6</th>\n",
       "      <td>1083115583770636289</td>\n",
       "      <td>RT @OriginalFunko: RT &amp;amp; follow @OriginalFu...</td>\n",
       "    </tr>\n",
       "    <tr>\n",
       "      <th>7</th>\n",
       "      <td>1083115572014006273</td>\n",
       "      <td>Up for grabs and minty #MEGO #Aquaman 1974 * E...</td>\n",
       "    </tr>\n",
       "    <tr>\n",
       "      <th>8</th>\n",
       "      <td>1083115567157047296</td>\n",
       "      <td>RT @DCFUnited: Postvis VFX iconic shot!!! #Aqu...</td>\n",
       "    </tr>\n",
       "    <tr>\n",
       "      <th>9</th>\n",
       "      <td>1083115549163511809</td>\n",
       "      <td>RT @AmberHeardIT: #AmberHeard and #CamilaCabel...</td>\n",
       "    </tr>\n",
       "  </tbody>\n",
       "</table>\n",
       "</div>"
      ],
      "text/plain": [
       "                    ID                                               Text\n",
       "0  1082820760140423169  RT &amp; follow @OriginalFunko for a chance to...\n",
       "1  1082608655160078336  Marvel President Kevin Feige really enjoyed #A...\n",
       "2  1082609842873864194  Y’all really came on here to say #Aquaman was ...\n",
       "3  1083115638053310475  My quick review of #Aquaman : I had a hell of ...\n",
       "4  1083115634261676033  Wow, #Aquaman was really enjoyable. Knock-off ...\n",
       "5  1083115586035609603  RT @Dommnics: Here's something I drew in celeb...\n",
       "6  1083115583770636289  RT @OriginalFunko: RT &amp; follow @OriginalFu...\n",
       "7  1083115572014006273  Up for grabs and minty #MEGO #Aquaman 1974 * E...\n",
       "8  1083115567157047296  RT @DCFUnited: Postvis VFX iconic shot!!! #Aqu...\n",
       "9  1083115549163511809  RT @AmberHeardIT: #AmberHeard and #CamilaCabel..."
      ]
     },
     "execution_count": 23,
     "metadata": {},
     "output_type": "execute_result"
    }
   ],
   "source": [
    "AquamanDf = pd.DataFrame()\n",
    "AquamanDf['ID'] = id_list\n",
    "AquamanDf['Text'] = text_list\n",
    "# AquamanDf.to_csv('Aquaman Tweets', sep=',', encoding='utf-8') #save data\n",
    "AquamanDf.head(10)"
   ]
  },
  {
   "cell_type": "code",
   "execution_count": 21,
   "metadata": {},
   "outputs": [
    {
     "data": {
      "image/png": "[encoded data removed]",
      "text/plain": [
       "<Figure size 720x576 with 1 Axes>"
      ]
     },
     "metadata": {},
     "output_type": "display_data"
    }
   ],
   "source": [
    "#Create bag of words for each of the SpiderVerse tweets\n",
    "import matplotlib.pyplot as plt\n",
    "import seaborn as sns\n",
    "plt.style.use('ggplot')\n",
    "\n",
    "Aquaman_text_set = []\n",
    "for text in AquamanDf['Text']:\n",
    "    Aquaman_text_set.append(bag_of_words(text))\n",
    "\n",
    "#Classify each bag of words\n",
    "Aquaman_result = []\n",
    "for bag in Aquaman_text_set:\n",
    "    Aquaman_result.append(classifier.classify(bag))\n",
    "\n",
    "AquamanDf['Sentiment'] = Aquaman_result\n",
    "\n",
    "plotSeries1 = AquamanDf['Sentiment'].value_counts()\n",
    "\n",
    "\n",
    "fig = plt.figure(facecolor=\"white\",figsize=(10,8))\n",
    "bar_width = 0.4\n",
    "ax = fig.add_subplot(1, 1, 1)\n",
    "r = [0,0.5] #Space between bars\n",
    "tick_pos = [i + (bar_width/40) for i in r]\n",
    "\n",
    "ax1 = ax.bar(r, plotSeries.values, width=bar_width, label='Spiderverse', color='#B11313',edgecolor='white' )\n",
    "ax2 = ax.bar(r, plotSeries1.values, bottom=plotSeries.values, width=bar_width, label='Aquaman', \n",
    "             color='#006994',edgecolor='white')\n",
    "ax.set_ylabel(\"Count\", fontsize=14, style='italic')\n",
    "ax.set_xlabel(\"Sentiment\", fontsize=14, style='italic')\n",
    "ax.legend(loc='best')\n",
    "plt.xticks(tick_pos, [\"Positive\", \"Negative\"], fontsize=14)\n",
    "plt.yticks(fontsize=13)\n",
    "\n",
    "for r1, r2 in zip(ax1, ax2): #Code to configure text inside each plot\n",
    "    h1 = r1.get_height()\n",
    "    h2 = r2.get_height()\n",
    "    plt.text(r1.get_x() + r1.get_width() / 2., h1 / 2., \"%d\" % h1, ha=\"center\", va=\"center\", \n",
    "             color=\"white\", fontsize=13, fontweight=\"bold\")\n",
    "    plt.text(r2.get_x() + r2.get_width() / 2., h1 + h2 / 2., \"%d\" % h2, ha=\"center\", va=\"center\", \n",
    "             color=\"white\", fontsize=13, fontweight=\"bold\")\n",
    "plt.legend(prop={'size': 13})\n",
    "plt.show()\n",
    "\n"
   ]
  },
  {
   "cell_type": "code",
   "execution_count": 22,
   "metadata": {},
   "outputs": [
    {
     "data": {
      "image/png": "[encoded data removed]",
      "text/plain": [
       "<Figure size 648x504 with 1 Axes>"
      ]
     },
     "metadata": {},
     "output_type": "display_data"
    }
   ],
   "source": [
    "sns.set_style(\"white\")\n",
    "sns.set_context({\"figure.figsize\": (9, 7)})\n",
    "\n",
    "r = ['Positive','Negative']\n",
    "#Plot 1 - background - \"total\" (top) series\n",
    "x1 = sns.barplot(r, plotSeries.values, color = \"#B11313\")\n",
    "\n",
    "#Plot 2 - overlay - \"bottom\" series\n",
    "x2 = sns.barplot(r, plotSeries1.values, color = \"#006994\",bottom=plotSeries.values)\n",
    "\n",
    "# topbar = plt.Rectangle((0,0),1,1,fc=\"red\", edgecolor = 'none')\n",
    "# bottombar = plt.Rectangle((0,0),1,1,fc='#0000A3',  edgecolor = 'none')\n",
    "# l = plt.legend([bottombar, topbar], ['Bottom Bar', 'Top Bar'], loc=1, ncol = 2, prop={'size':12})\n",
    "# l.draw_frame(False)\n",
    "\n",
    "\n",
    "\n",
    "\n",
    "\n",
    "#Optional code - Make plot look nicer\n",
    "sns.despine(left=True)\n",
    "x1.set_ylabel(\"Count\")\n",
    "x1.set_xlabel(\"Sentiment\")\n",
    "\n",
    "for item in ([x1.xaxis.label, x1.yaxis.label] +\n",
    "             x1.get_xticklabels() + x1.get_yticklabels()):\n",
    "    item.set_fontsize(14)"
   ]
  },
  {
   "cell_type": "code",
   "execution_count": null,
   "metadata": {},
   "outputs": [],
   "source": []
  }
 ],
 "metadata": {
  "kernelspec": {
   "display_name": "Python 3",
   "language": "python",
   "name": "python3"
  },
  "language_info": {
   "codemirror_mode": {
    "name": "ipython",
    "version": 3
   },
   "file_extension": ".py",
   "mimetype": "text/x-python",
   "name": "python",
   "nbconvert_exporter": "python",
   "pygments_lexer": "ipython3",
   "version": "3.6.6"
  }
 },
 "nbformat": 4,
 "nbformat_minor": 2
}
