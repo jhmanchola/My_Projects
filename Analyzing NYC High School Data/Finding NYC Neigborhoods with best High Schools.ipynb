{
 "cells": [
  {
   "cell_type": "markdown",
   "metadata": {},
   "source": [
    "# Tutorial: Using  Coordinates and Web Scrapping To Identify NYC Neighborhoods with the Best High Schools\n",
    "\n",
    "Here we are working in Python with a cleaned dataset created with the contents of other small datasets. In summary, the dataset contains information about New York City High Schools ranked by SAT score results average from the year 2012. Along with the scores and other information, the dataset has the geographic coordinates (latitude, longitude) and the DBN (District Borough Number) of each school. Can we use this to find the neighborhood in which each school is located?\n",
    "\n",
    "With the coordinates we can place each school on a map, and we also know the city borough, but to find the neighborhood, we'll need a map that shows neighborhood names and then try to establish if the school falls within a neighborhood's boundaries. Another way to find the name using the module Geopy is shown in this small tutorial. A web source with all neighborhood names will be used to finish our task, and for that we'll need web scrapping.\n",
    "\n",
    "## First we import the libraries we need and the data"
   ]
  },
  {
   "cell_type": "code",
   "execution_count": 1,
   "metadata": {},
   "outputs": [],
   "source": [
    "import pandas as pd\n",
    "import numpy as np\n",
    "import matplotlib.pyplot as plt\n",
    "import os #The Basemap model if we don't set 'os.environ['PROJ_LIB']'\n",
    "os.environ['PROJ_LIB'] = 'C:/Users/joman/Anaconda3/Lib/site-packages/mpl_toolkits/basemap'\n",
    "from mpl_toolkits.basemap import Basemap\n",
    "from geopy.geocoders import Nominatim\n",
    "\n",
    "#Read the data into a pandas dataframe\n",
    "best_schools_url = 'https://raw.githubusercontent.com/jhmanchola/Learning-curve/master/Problem-Solving/Web-Scraping-for-Missing-Map-Data/best_schools.csv'\n",
    "best_schools = pd.read_csv(best_schools_url)"
   ]
  },
  {
   "cell_type": "markdown",
   "metadata": {},
   "source": [
    "\n",
    "## Plot a map just to see how the schools are distributed"
   ]
  },
  {
   "cell_type": "code",
   "execution_count": 2,
   "metadata": {},
   "outputs": [
    {
     "name": "stderr",
     "output_type": "stream",
     "text": [
      "C:\\Users\\joman\\Anaconda3\\lib\\site-packages\\ipykernel_launcher.py:11: MatplotlibDeprecationWarning: \n",
      "The dedent function was deprecated in Matplotlib 3.1 and will be removed in 3.3. Use inspect.cleandoc instead.\n",
      "  # This is added back by InteractiveShellApp.init_path()\n",
      "C:\\Users\\joman\\Anaconda3\\lib\\site-packages\\ipykernel_launcher.py:16: MatplotlibDeprecationWarning: \n",
      "The dedent function was deprecated in Matplotlib 3.1 and will be removed in 3.3. Use inspect.cleandoc instead.\n",
      "  app.launch_new_instance()\n"
     ]
    },
    {
     "data": {
      "image/png": "[encoded data removed]",
      "text/plain": [
       "<Figure size 432x288 with 2 Axes>"
      ]
     },
     "metadata": {
      "needs_background": "light"
     },
     "output_type": "display_data"
    }
   ],
   "source": [
    "#Get the longitudes and latitudes as list\n",
    "best_schools_lon =best_schools['lon'].tolist()\n",
    "best_schools_lat =best_schools['lat'].tolist()\n",
    "\n",
    "m2 = Basemap(\n",
    "    projection='merc', \n",
    "    llcrnrlat=40.496044, \n",
    "    urcrnrlat=40.915256, \n",
    "    llcrnrlon=-74.255735, \n",
    "    urcrnrlon=-73.700272,\n",
    "    resolution='i'\n",
    ")\n",
    "\n",
    "m2.drawmapboundary(fill_color='#85A6D9')\n",
    "m2.drawcoastlines(color='#6D5F47', linewidth=.4)\n",
    "m2.drawrivers(color='#6D5F47', linewidth=.4)\n",
    "\n",
    "m2.scatter(best_schools_lon,best_schools_lat,s=50,zorder=2,latlon=True,c=best_schools['sat_score'],cmap=\"summer\")\n",
    "plt.colorbar()\n",
    "plt.show()"
   ]
  },
  {
   "cell_type": "markdown",
   "metadata": {},
   "source": [
    "## Now Geopy will get the information we need\n",
    "For geopy to work, we need latitude and longitude coordinates in string form, so a new column will be created joinig the string version of 'lat' and 'lon'. Here we'll use the `Nominatum` tool we imported from `geopy.geocoders` at the begining of the process.\n",
    "\n",
    "Geopy uses geocoding services to get the data it is requesting. Some services are slow and they only allow limited number of requests. That's why there are tools within the module to handle timeouts and allow more requests. More information can be found in the [Geopy documentation.](https://geopy.readthedocs.io/en/latest/#geopy.exc.GeocoderTimedOut) The number of requests will make the code execution somewhat slow."
   ]
  },
  {
   "cell_type": "code",
   "execution_count": 3,
   "metadata": {},
   "outputs": [
    {
     "data": {
      "text/plain": [
       "Location(322, West 48th Street, Hell's Kitchen, Manhattan Community Board 4, Manhattan, New York County, New York, 10036, United States of America, (40.761279900000005, -73.98818145, 0.0))"
      ]
     },
     "execution_count": 3,
     "metadata": {},
     "output_type": "execute_result"
    }
   ],
   "source": [
    "#create a new column with the coordinates as a string\n",
    "best_schools[\"coords\"] = best_schools.loc[:,\"lat\"].astype(str)+','+best_schools.loc[:,\"lon\"].astype(str)\n",
    "\n",
    "#Override the default user_agent parameter with a madeup one to prevent deprecation warning\n",
    "#here the madeup parameter is 'myapp/1', it doesn't mean anything, it's just to please the programming gods\n",
    "geolocator = Nominatim(user_agent='myapp/1',timeout = 7) #Increase timeout to avoid timeout error\n",
    "#If timeout parameter doesn't help, use the RateLimiter\n",
    "#This will allow multiple requests in case of timeouts\n",
    "from geopy.extra.rate_limiter import RateLimiter \n",
    "geocode = RateLimiter(geolocator.reverse, min_delay_seconds=1) #Create the object\n",
    "\n",
    "location_tuples = best_schools['coords'].apply(geocode) #Create a series with the applied function on 'coords'\n",
    "\n",
    "#Create an example location to see how it works\n",
    "location = geolocator.reverse(\"40.761432699000466,-73.98802369799967\")\n",
    "location"
   ]
  },
  {
   "cell_type": "markdown",
   "metadata": {},
   "source": [
    "With the coordinate (40.761279900000005, -73.98818145) we get a geopy `Location` object that is like a list of identifiers for that location, including the neighborhood name. In this case the neighborhood name is Hell's Kitchen. We can see here that the neighborhood name is the third element in the list, but it turns out this order is very random, and it varies for other locations. So we have to be careful in how we are going to retrive it from the list.\n",
    "\n",
    "By trial and error, the neighborhood name was always located in between the 2nd and 4th position of the above list. Hence, we'll filter the list by slicing everything in between 1 and 5 or `[1:5]`(a reminder that Python counts the first element as 0 and the slice will exclude the 5). \n",
    "\n",
    "In the above code we created a Pandas Series called `location_tuples`. Here we stored all the results of `geocode`. We will create a new series that will take `location_tuples` and apply a function that will split the contents and keep only 4 elements in each row using the slicing already described:"
   ]
  },
  {
   "cell_type": "code",
   "execution_count": 4,
   "metadata": {},
   "outputs": [
    {
     "data": {
      "text/plain": [
       "0    [Columbia Street, Lower East Side, Manhattan C...\n",
       "1    [525, East Houston Street, Lower East Side, Ma...\n",
       "2    [West 48th Street, Hell's Kitchen, Manhattan C...\n",
       "3          [55, West 25th Street, Penn South, Chelsea]\n",
       "4    [8th Avenue, Chelsea, Manhattan Community Boar...\n",
       "Name: coords, dtype: object"
      ]
     },
     "execution_count": 4,
     "metadata": {},
     "output_type": "execute_result"
    }
   ],
   "source": [
    "#slice [1:5]\n",
    "inter_neighborhd = location_tuples.apply(lambda x: x[0].split(', ')[1:5])\n",
    "inter_neighborhd.head()"
   ]
  },
  {
   "cell_type": "markdown",
   "metadata": {},
   "source": [
    "## Use Web Scrapping To Find All Neighborhood names\n",
    "\n",
    "Now that we have the series `inter_neighborhd` with information that includes the neighborhood name for each High School, we can filter that name by doing a web search of all NYC neighborhoods. As it happens, there's a [Wikipedia page](https://en.wikipedia.org/wiki/Neighborhoods_in_New_York_City) with all NYC neighborhoods. We will use the package `BeautifulSoup` to scrape just the neighborhood names from the website. We will create a function, `GetandCleanRows()` to get just the text that contains what we want. We will create another function, `getNY_Neighborhoods()` to get just the neighborhood name from that text. At the end of this block of code, we will have a list with all NYC neighborhoods."
   ]
  },
  {
   "cell_type": "code",
   "execution_count": 5,
   "metadata": {},
   "outputs": [
    {
     "data": {
      "text/plain": [
       "['Melrose', 'Mott Haven', 'Port Morris', 'Hunts Point', 'Longwood']"
      ]
     },
     "execution_count": 5,
     "metadata": {},
     "output_type": "execute_result"
    }
   ],
   "source": [
    "#Get list of NY neighborhoods by scrapping the Wikipedia page containing a table of all neighborhoods\n",
    "from urllib.request import urlopen\n",
    "from bs4 import BeautifulSoup\n",
    "\n",
    "url_NYnh = \"https://en.wikipedia.org/wiki/Neighborhoods_in_New_York_City\" #page url\n",
    "\n",
    "html_NYnh = urlopen(url_NYnh)\n",
    "\n",
    "NYnh = BeautifulSoup(html_NYnh, 'lxml')\n",
    "\n",
    "def GetandCleanRows(soup_object):\n",
    "    '''Utility function to get rows from a table in the website'''\n",
    "\n",
    "    rows = soup_object.find_all('tr') #Get all rows in table\n",
    "    row_list = []\n",
    "    for row in rows: \n",
    "        str_cells = str(row.find_all('td')) #Convert each row into a string\n",
    "        cleantext = BeautifulSoup(str_cells, \"lxml\").get_text() #Get just the text and remove all html syntax\n",
    "        row_list.append(cleantext)\n",
    "    return row_list\n",
    "\n",
    "NYnh_list = GetandCleanRows(NYnh)\n",
    "#Create a pandas dataframe, only rows 1 to 60 have relevant info\n",
    "NY_neighborhoods_df = pd.DataFrame(NYnh_list[1:60]) \n",
    "\n",
    "import re\n",
    "def getNY_Neighborhoods(s):\n",
    "    '''Function to apply to dataframe, to get just the neighborhood name from string'''\n",
    "    split = re.split(', |\\n]',s)\n",
    "    return split[4:-1]\n",
    "\n",
    "#Create new series with results from the getNY_Neighborhoods() function\n",
    "NY_neighborhoods_series = NY_neighborhoods_df[0].apply(getNY_Neighborhoods) #Apply to column 0\n",
    "#Create a unique list of neighborhoods by joining all separate lists\n",
    "NY_neighborhoods = []\n",
    "for n in NY_neighborhoods_series:\n",
    "    NY_neighborhoods += n\n",
    "\n",
    "NY_neighborhoods[:5] # First 5 items in the list"
   ]
  },
  {
   "cell_type": "markdown",
   "metadata": {},
   "source": [
    "In the next step, we just need to compare our `NY_neighborhoods` list with the contents of our `inter_neighborhd` series. Remember `inter_neighborhd` has a list of identifiers and among them lies the neighborhood name. We will create a function that will find the neighborhood name when it compares all those identifiers with the contents of `NY_neighborhoods`:"
   ]
  },
  {
   "cell_type": "code",
   "execution_count": 6,
   "metadata": {},
   "outputs": [
    {
     "data": {
      "text/plain": [
       "0    Lower East Side\n",
       "1    Lower East Side\n",
       "2     Hell's Kitchen\n",
       "3            Chelsea\n",
       "4            Chelsea\n",
       "Name: Neighborhood, dtype: object"
      ]
     },
     "execution_count": 6,
     "metadata": {},
     "output_type": "execute_result"
    }
   ],
   "source": [
    "#create the function to select the neighborhood from the list of neighborhood\n",
    "def getSchoolNeighborhood(s):\n",
    "    '''Function to get the neighborhood of the school by\n",
    "    matching the contents of inter_neighborhd with the list of all neighborhoods\n",
    "    s: a list of 4 items where one of the items is the neighborhood name'''\n",
    "    for i in s:\n",
    "        if i in NY_neighborhoods:\n",
    "            return i\n",
    "    else:\n",
    "        return s\n",
    "\n",
    "#Create a new column in the dataframe 'best_schools' where we store the neighborhood \n",
    "#name obtained by applying the above function to the 'inter_neighborhd' series.\n",
    "best_schools['Neighborhood'] = inter_neighborhd.apply(getSchoolNeighborhood)\n",
    "best_schools['Neighborhood'].head()"
   ]
  },
  {
   "cell_type": "markdown",
   "metadata": {},
   "source": [
    "## List of Neighborhoods with Best High Schools\n",
    "A new column `Neighborhood` was created in the `best_schools` dataframe, where we stored the results of applying the function `getSchoolNeighborhood()` to the `inter_neighborhd` series. We printed out the first 5 results of the column and we can see the neighborhood name. Now we only need to do a sorting process to get the neighborhoods with the top high schools according to their SAT score."
   ]
  },
  {
   "cell_type": "code",
   "execution_count": 7,
   "metadata": {},
   "outputs": [
    {
     "data": {
      "text/html": [
       "<div>\n",
       "<style scoped>\n",
       "    .dataframe tbody tr th:only-of-type {\n",
       "        vertical-align: middle;\n",
       "    }\n",
       "\n",
       "    .dataframe tbody tr th {\n",
       "        vertical-align: top;\n",
       "    }\n",
       "\n",
       "    .dataframe thead th {\n",
       "        text-align: right;\n",
       "    }\n",
       "</style>\n",
       "<table border=\"1\" class=\"dataframe\">\n",
       "  <thead>\n",
       "    <tr style=\"text-align: right;\">\n",
       "      <th></th>\n",
       "      <th>sat_score</th>\n",
       "    </tr>\n",
       "    <tr>\n",
       "      <th>Neighborhood</th>\n",
       "      <th></th>\n",
       "    </tr>\n",
       "  </thead>\n",
       "  <tbody>\n",
       "    <tr>\n",
       "      <th>Battery Park City</th>\n",
       "      <td>2096.0</td>\n",
       "    </tr>\n",
       "    <tr>\n",
       "      <th>Bedford Park</th>\n",
       "      <td>1969.0</td>\n",
       "    </tr>\n",
       "    <tr>\n",
       "      <th>Oakwood</th>\n",
       "      <td>1953.0</td>\n",
       "    </tr>\n",
       "    <tr>\n",
       "      <th>Kingsbridge Heights</th>\n",
       "      <td>1920.0</td>\n",
       "    </tr>\n",
       "    <tr>\n",
       "      <th>Pomonok</th>\n",
       "      <td>1910.0</td>\n",
       "    </tr>\n",
       "    <tr>\n",
       "      <th>Jamaica</th>\n",
       "      <td>1868.0</td>\n",
       "    </tr>\n",
       "    <tr>\n",
       "      <th>Hamilton Heights</th>\n",
       "      <td>1847.0</td>\n",
       "    </tr>\n",
       "    <tr>\n",
       "      <th>Fort Greene</th>\n",
       "      <td>1833.0</td>\n",
       "    </tr>\n",
       "    <tr>\n",
       "      <th>Upper East Side</th>\n",
       "      <td>1758.0</td>\n",
       "    </tr>\n",
       "    <tr>\n",
       "      <th>Williamsburg Houses</th>\n",
       "      <td>1740.0</td>\n",
       "    </tr>\n",
       "    <tr>\n",
       "      <th>Lower East Side</th>\n",
       "      <td>1738.5</td>\n",
       "    </tr>\n",
       "    <tr>\n",
       "      <th>Lincoln Square</th>\n",
       "      <td>1725.5</td>\n",
       "    </tr>\n",
       "    <tr>\n",
       "      <th>Sunnyside</th>\n",
       "      <td>1663.0</td>\n",
       "    </tr>\n",
       "    <tr>\n",
       "      <th>Sunnyside Gardens</th>\n",
       "      <td>1636.0</td>\n",
       "    </tr>\n",
       "    <tr>\n",
       "      <th>Sheepshead Bay</th>\n",
       "      <td>1627.0</td>\n",
       "    </tr>\n",
       "    <tr>\n",
       "      <th>Chelsea</th>\n",
       "      <td>1627.0</td>\n",
       "    </tr>\n",
       "    <tr>\n",
       "      <th>Financial District</th>\n",
       "      <td>1614.0</td>\n",
       "    </tr>\n",
       "    <tr>\n",
       "      <th>Utopia</th>\n",
       "      <td>1538.0</td>\n",
       "    </tr>\n",
       "    <tr>\n",
       "      <th>Seaside</th>\n",
       "      <td>1532.0</td>\n",
       "    </tr>\n",
       "    <tr>\n",
       "      <th>Hell's Kitchen</th>\n",
       "      <td>1522.0</td>\n",
       "    </tr>\n",
       "    <tr>\n",
       "      <th>Oakland Gardens</th>\n",
       "      <td>1514.0</td>\n",
       "    </tr>\n",
       "  </tbody>\n",
       "</table>\n",
       "</div>"
      ],
      "text/plain": [
       "                     sat_score\n",
       "Neighborhood                  \n",
       "Battery Park City       2096.0\n",
       "Bedford Park            1969.0\n",
       "Oakwood                 1953.0\n",
       "Kingsbridge Heights     1920.0\n",
       "Pomonok                 1910.0\n",
       "Jamaica                 1868.0\n",
       "Hamilton Heights        1847.0\n",
       "Fort Greene             1833.0\n",
       "Upper East Side         1758.0\n",
       "Williamsburg Houses     1740.0\n",
       "Lower East Side         1738.5\n",
       "Lincoln Square          1725.5\n",
       "Sunnyside               1663.0\n",
       "Sunnyside Gardens       1636.0\n",
       "Sheepshead Bay          1627.0\n",
       "Chelsea                 1627.0\n",
       "Financial District      1614.0\n",
       "Utopia                  1538.0\n",
       "Seaside                 1532.0\n",
       "Hell's Kitchen          1522.0\n",
       "Oakland Gardens         1514.0"
      ]
     },
     "execution_count": 7,
     "metadata": {},
     "output_type": "execute_result"
    }
   ],
   "source": [
    "#Index only the relevant columns, 'sat_score' and 'Neighborhood'. \n",
    "#Group the dataset by neighborhood and calculate the mean of the SAT score for each neighborhood.\n",
    "#Sort the dataframe according to SAT average score in descending order (High scores first)\n",
    "\n",
    "best_schools[['sat_score','Neighborhood']].groupby('Neighborhood').mean().sort_values('sat_score',ascending=False)"
   ]
  },
  {
   "cell_type": "markdown",
   "metadata": {},
   "source": [
    "## Conclusion\n",
    "Just to clarify, the term 'best' to classify a high school is based solely in the SAT score, and there are many opinions against using standarized testing as the only measure of human impact a school has. Nonetheless, this was an exercise to use Geopy and Web scrapping, and we ended with a list of neighborhoods that house the schools with the best SAT scores. We can see Battery Park City has the highest SAT score average (in the dataframe there was only one high school representing Battery Park City, so the average SAT score of the neighborhood is the average for the high school). This neighborhood is located in Manhattan, and as we saw in the map, a lot of good high schools are located in that Borough."
   ]
  },
  {
   "cell_type": "code",
   "execution_count": null,
   "metadata": {},
   "outputs": [],
   "source": []
  }
 ],
 "metadata": {
  "kernelspec": {
   "display_name": "Python 3",
   "language": "python",
   "name": "python3"
  },
  "language_info": {
   "codemirror_mode": {
    "name": "ipython",
    "version": 3
   },
   "file_extension": ".py",
   "mimetype": "text/x-python",
   "name": "python",
   "nbconvert_exporter": "python",
   "pygments_lexer": "ipython3",
   "version": "3.7.4"
  }
 },
 "nbformat": 4,
 "nbformat_minor": 2
}
