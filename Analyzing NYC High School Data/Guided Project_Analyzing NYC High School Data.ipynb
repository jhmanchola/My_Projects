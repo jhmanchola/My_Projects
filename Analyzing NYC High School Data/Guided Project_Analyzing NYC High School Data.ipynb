{
 "cells": [
  {
   "cell_type": "markdown",
   "metadata": {},
   "source": [
    "# Analyzing NYC High School Data\n",
    "This project is about ranking New York City High Schools by their SAT average score and analyzing which variables can contribute to some schools doing better than others. Some preprocessing was done to clean the data and making it easier to manipulate. Six datasets were joined together to handle all relevant variables. The datasets used were:\n",
    "\n",
    "- `ap_2010.csv`: The Advanced Placement exam results for each high school.\n",
    "- `class_size.csv`: The class size for each school.\n",
    "- `demographics.csv`: The different demographic groups attending each school.\n",
    "- `graduation.csv`: Percentage of students graduating from each school.\n",
    "- `hs_directory.csv`: School attendance.\n",
    "- `sat_results.csv`: SAT scores for each high school in New York City.\n",
    "\n",
    "Additionally, two survey datasets, `survey_all.txt` and `survey_d75.txt` were used to assemble the school evaluations done by teachers, parents and students. \n",
    "\n",
    "The following steps in section 1 aim to join all this information together until we can reach the step were we can start making correlations in section 2.\n",
    "\n",
    "## Section 1. Organizing all the data\n",
    "### Read in the data"
   ]
  },
  {
   "cell_type": "code",
   "execution_count": 1,
   "metadata": {},
   "outputs": [],
   "source": [
    "import pandas as pd\n",
    "import numpy\n",
    "import re\n",
    "import matplotlib.pyplot as plt\n",
    "\n",
    "data_files = [\n",
    "    \"ap_2010.csv\",\n",
    "    \"class_size.csv\",\n",
    "    \"demographics.csv\",\n",
    "    \"graduation.csv\",\n",
    "    \"hs_directory.csv\",\n",
    "    \"sat_results.csv\"\n",
    "]\n",
    "\n",
    "data = {}\n",
    "\n",
    "for f in data_files:\n",
    "    d = pd.read_csv(\"schools/{0}\".format(f))\n",
    "    data[f.replace(\".csv\", \"\")] = d"
   ]
  },
  {
   "cell_type": "markdown",
   "metadata": {},
   "source": [
    "### Read in the surveys"
   ]
  },
  {
   "cell_type": "code",
   "execution_count": 2,
   "metadata": {},
   "outputs": [
    {
     "name": "stderr",
     "output_type": "stream",
     "text": [
      "C:\\Users\\joman\\Anaconda3\\lib\\site-packages\\ipykernel_launcher.py:3: FutureWarning: Sorting because non-concatenation axis is not aligned. A future version\n",
      "of pandas will change to not sort by default.\n",
      "\n",
      "To accept the future behavior, pass 'sort=False'.\n",
      "\n",
      "To retain the current behavior and silence the warning, pass 'sort=True'.\n",
      "\n",
      "  This is separate from the ipykernel package so we can avoid doing imports until\n"
     ]
    }
   ],
   "source": [
    "all_survey = pd.read_csv(\"schools/survey_all.txt\", delimiter=\"\\t\", encoding='windows-1252')\n",
    "d75_survey = pd.read_csv(\"schools/survey_d75.txt\", delimiter=\"\\t\", encoding='windows-1252')\n",
    "survey = pd.concat([all_survey, d75_survey], axis=0)\n",
    "\n",
    "survey[\"DBN\"] = survey[\"dbn\"]\n",
    "\n",
    "survey_fields = [\n",
    "    \"DBN\", \n",
    "    \"rr_s\", \n",
    "    \"rr_t\", \n",
    "    \"rr_p\", \n",
    "    \"N_s\", \n",
    "    \"N_t\", \n",
    "    \"N_p\", \n",
    "    \"saf_p_11\", \n",
    "    \"com_p_11\", \n",
    "    \"eng_p_11\", \n",
    "    \"aca_p_11\", \n",
    "    \"saf_t_11\", \n",
    "    \"com_t_11\", \n",
    "    \"eng_t_11\", \n",
    "    \"aca_t_11\", \n",
    "    \"saf_s_11\", \n",
    "    \"com_s_11\", \n",
    "    \"eng_s_11\", \n",
    "    \"aca_s_11\", \n",
    "    \"saf_tot_11\", \n",
    "    \"com_tot_11\", \n",
    "    \"eng_tot_11\", \n",
    "    \"aca_tot_11\",\n",
    "]\n",
    "survey = survey.loc[:,survey_fields]\n",
    "data[\"survey\"] = survey"
   ]
  },
  {
   "cell_type": "markdown",
   "metadata": {},
   "source": [
    "### Add DBN columns"
   ]
  },
  {
   "cell_type": "code",
   "execution_count": 3,
   "metadata": {},
   "outputs": [],
   "source": [
    "data[\"hs_directory\"][\"DBN\"] = data[\"hs_directory\"][\"dbn\"]\n",
    "\n",
    "def pad_csd(num):\n",
    "    string_representation = str(num)\n",
    "    if len(string_representation) > 1:\n",
    "        return string_representation\n",
    "    else:\n",
    "        return \"0\" + string_representation\n",
    "    \n",
    "data[\"class_size\"][\"padded_csd\"] = data[\"class_size\"][\"CSD\"].apply(pad_csd)\n",
    "data[\"class_size\"][\"DBN\"] = data[\"class_size\"][\"padded_csd\"] + data[\"class_size\"][\"SCHOOL CODE\"]"
   ]
  },
  {
   "cell_type": "markdown",
   "metadata": {},
   "source": [
    "### Convert columns to numeric"
   ]
  },
  {
   "cell_type": "code",
   "execution_count": 4,
   "metadata": {},
   "outputs": [],
   "source": [
    "cols = ['SAT Math Avg. Score', 'SAT Critical Reading Avg. Score', 'SAT Writing Avg. Score']\n",
    "for c in cols:\n",
    "    data[\"sat_results\"][c] = pd.to_numeric(data[\"sat_results\"][c], errors=\"coerce\")\n",
    "\n",
    "data['sat_results']['sat_score'] = data['sat_results'][cols[0]] + data['sat_results'][cols[1]] + data['sat_results'][cols[2]]\n",
    "\n",
    "def find_lat(loc):\n",
    "    coords = re.findall(\"\\(.+, .+\\)\", loc)\n",
    "    lat = coords[0].split(\",\")[0].replace(\"(\", \"\")\n",
    "    return lat\n",
    "\n",
    "def find_lon(loc):\n",
    "    coords = re.findall(\"\\(.+, .+\\)\", loc)\n",
    "    lon = coords[0].split(\",\")[1].replace(\")\", \"\").strip()\n",
    "    return lon\n",
    "\n",
    "data[\"hs_directory\"][\"lat\"] = data[\"hs_directory\"][\"Location 1\"].apply(find_lat)\n",
    "data[\"hs_directory\"][\"lon\"] = data[\"hs_directory\"][\"Location 1\"].apply(find_lon)\n",
    "\n",
    "data[\"hs_directory\"][\"lat\"] = pd.to_numeric(data[\"hs_directory\"][\"lat\"], errors=\"coerce\")\n",
    "data[\"hs_directory\"][\"lon\"] = pd.to_numeric(data[\"hs_directory\"][\"lon\"], errors=\"coerce\")"
   ]
  },
  {
   "cell_type": "markdown",
   "metadata": {},
   "source": [
    "### Condense datasets"
   ]
  },
  {
   "cell_type": "code",
   "execution_count": 5,
   "metadata": {},
   "outputs": [],
   "source": [
    "class_size = data[\"class_size\"]\n",
    "class_size = class_size[class_size[\"GRADE \"] == \"09-12\"]\n",
    "class_size = class_size[class_size[\"PROGRAM TYPE\"] == \"GEN ED\"]\n",
    "\n",
    "class_size = class_size.groupby(\"DBN\").agg(numpy.mean)\n",
    "class_size.reset_index(inplace=True)\n",
    "data[\"class_size\"] = class_size\n",
    "\n",
    "data[\"demographics\"] = data[\"demographics\"][data[\"demographics\"][\"schoolyear\"] == 20112012]\n",
    "\n",
    "data[\"graduation\"] = data[\"graduation\"][data[\"graduation\"][\"Cohort\"] == \"2006\"]\n",
    "data[\"graduation\"] = data[\"graduation\"][data[\"graduation\"][\"Demographic\"] == \"Total Cohort\"]"
   ]
  },
  {
   "cell_type": "markdown",
   "metadata": {},
   "source": [
    "### Convert AP scores to numeric"
   ]
  },
  {
   "cell_type": "code",
   "execution_count": 6,
   "metadata": {},
   "outputs": [],
   "source": [
    "cols = ['AP Test Takers ', 'Total Exams Taken', 'Number of Exams with scores 3 4 or 5']\n",
    "\n",
    "for col in cols:\n",
    "    data[\"ap_2010\"][col] = pd.to_numeric(data[\"ap_2010\"][col], errors=\"coerce\")"
   ]
  },
  {
   "cell_type": "markdown",
   "metadata": {},
   "source": [
    "### Combine the datasets"
   ]
  },
  {
   "cell_type": "code",
   "execution_count": 7,
   "metadata": {},
   "outputs": [],
   "source": [
    "combined = data[\"sat_results\"]\n",
    "\n",
    "combined = combined.merge(data[\"ap_2010\"], on=\"DBN\", how=\"left\")\n",
    "combined = combined.merge(data[\"graduation\"], on=\"DBN\", how=\"left\")\n",
    "\n",
    "to_merge = [\"class_size\", \"demographics\", \"survey\", \"hs_directory\"]\n",
    "\n",
    "for m in to_merge:\n",
    "    combined = combined.merge(data[m], on=\"DBN\", how=\"inner\")\n",
    "\n",
    "combined = combined.fillna(combined.mean())\n",
    "combined = combined.fillna(0)"
   ]
  },
  {
   "cell_type": "markdown",
   "metadata": {},
   "source": [
    "### Add a school district column for mapping"
   ]
  },
  {
   "cell_type": "code",
   "execution_count": 8,
   "metadata": {},
   "outputs": [],
   "source": [
    "def get_first_two_chars(dbn):\n",
    "    return dbn[0:2]\n",
    "\n",
    "combined[\"school_dist\"] = combined[\"DBN\"].apply(get_first_two_chars)"
   ]
  },
  {
   "cell_type": "markdown",
   "metadata": {},
   "source": [
    "## Section 2. Find correlations"
   ]
  },
  {
   "cell_type": "code",
   "execution_count": 9,
   "metadata": {},
   "outputs": [
    {
     "name": "stdout",
     "output_type": "stream",
     "text": [
      "SAT Critical Reading Avg. Score         0.986820\n",
      "SAT Math Avg. Score                     0.972643\n",
      "SAT Writing Avg. Score                  0.987771\n",
      "sat_score                               1.000000\n",
      "AP Test Takers                          0.523140\n",
      "Total Exams Taken                       0.514333\n",
      "Number of Exams with scores 3 4 or 5    0.463245\n",
      "Total Cohort                            0.325144\n",
      "CSD                                     0.042948\n",
      "NUMBER OF STUDENTS / SEATS FILLED       0.394626\n",
      "NUMBER OF SECTIONS                      0.362673\n",
      "AVERAGE CLASS SIZE                      0.381014\n",
      "SIZE OF SMALLEST CLASS                  0.249949\n",
      "SIZE OF LARGEST CLASS                   0.314434\n",
      "SCHOOLWIDE PUPIL-TEACHER RATIO               NaN\n",
      "schoolyear                                   NaN\n",
      "fl_percent                                   NaN\n",
      "frl_percent                            -0.722225\n",
      "total_enrollment                        0.367857\n",
      "ell_num                                -0.153778\n",
      "ell_percent                            -0.398750\n",
      "sped_num                                0.034933\n",
      "sped_percent                           -0.448170\n",
      "asian_num                               0.475445\n",
      "asian_per                               0.570730\n",
      "black_num                               0.027979\n",
      "black_per                              -0.284139\n",
      "hispanic_num                            0.025744\n",
      "hispanic_per                           -0.396985\n",
      "white_num                               0.449559\n",
      "                                          ...   \n",
      "rr_p                                    0.047925\n",
      "N_s                                     0.423463\n",
      "N_t                                     0.291463\n",
      "N_p                                     0.421530\n",
      "saf_p_11                                0.122913\n",
      "com_p_11                               -0.115073\n",
      "eng_p_11                                0.020254\n",
      "aca_p_11                                0.035155\n",
      "saf_t_11                                0.313810\n",
      "com_t_11                                0.082419\n",
      "eng_t_11                                0.036906\n",
      "aca_t_11                                0.132348\n",
      "saf_s_11                                0.337639\n",
      "com_s_11                                0.187370\n",
      "eng_s_11                                0.213822\n",
      "aca_s_11                                0.339435\n",
      "saf_tot_11                              0.318753\n",
      "com_tot_11                              0.077310\n",
      "eng_tot_11                              0.100102\n",
      "aca_tot_11                              0.190966\n",
      "grade_span_max                               NaN\n",
      "expgrade_span_max                            NaN\n",
      "zip                                    -0.063977\n",
      "total_students                          0.407827\n",
      "number_programs                         0.117012\n",
      "priority08                                   NaN\n",
      "priority09                                   NaN\n",
      "priority10                                   NaN\n",
      "lat                                    -0.121029\n",
      "lon                                    -0.132222\n",
      "Name: sat_score, Length: 67, dtype: float64\n"
     ]
    }
   ],
   "source": [
    "correlations = combined.corr()\n",
    "correlations = correlations[\"sat_score\"]\n",
    "print(correlations)"
   ]
  },
  {
   "cell_type": "markdown",
   "metadata": {},
   "source": [
    "### Plotting survey correlations"
   ]
  },
  {
   "cell_type": "code",
   "execution_count": 10,
   "metadata": {},
   "outputs": [],
   "source": [
    "# Remove DBN since it's a unique identifier, not a useful numerical value for correlation.\n",
    "survey_fields.remove(\"DBN\")"
   ]
  },
  {
   "cell_type": "code",
   "execution_count": 11,
   "metadata": {},
   "outputs": [
    {
     "data": {
      "text/plain": [
       "['rr_s',\n",
       " 'rr_t',\n",
       " 'rr_p',\n",
       " 'N_s',\n",
       " 'N_t',\n",
       " 'N_p',\n",
       " 'saf_p_11',\n",
       " 'com_p_11',\n",
       " 'eng_p_11',\n",
       " 'aca_p_11',\n",
       " 'saf_t_11',\n",
       " 'com_t_11',\n",
       " 'eng_t_11',\n",
       " 'aca_t_11',\n",
       " 'saf_s_11',\n",
       " 'com_s_11',\n",
       " 'eng_s_11',\n",
       " 'aca_s_11',\n",
       " 'saf_tot_11',\n",
       " 'com_tot_11',\n",
       " 'eng_tot_11',\n",
       " 'aca_tot_11']"
      ]
     },
     "execution_count": 11,
     "metadata": {},
     "output_type": "execute_result"
    }
   ],
   "source": [
    "survey_fields"
   ]
  },
  {
   "cell_type": "code",
   "execution_count": 12,
   "metadata": {},
   "outputs": [
    {
     "data": {
      "image/png": "[encoded data removed]",
      "text/plain": [
       "<Figure size 432x288 with 1 Axes>"
      ]
     },
     "metadata": {
      "needs_background": "light"
     },
     "output_type": "display_data"
    }
   ],
   "source": [
    "%matplotlib inline\n",
    "#Create mask with all fields and add the 'sat_score' label\n",
    "survey_corr_mask = survey_fields + ['sat_score']\n",
    "survey_corr = combined[survey_corr_mask].corr()\n",
    "\n",
    "#Find the 'y' and the 'width' of horizontal bar plot\n",
    "survey_corr_y = numpy.arange(len(survey_corr['sat_score'].index))\n",
    "survey_corr_w = survey_corr['sat_score'].sort_values().values\n",
    "\n",
    "plt.barh(survey_corr_y,survey_corr_w)\n",
    "plt.yticks(survey_corr_y,survey_corr['sat_score'].sort_values().index)\n",
    "plt.show()"
   ]
  },
  {
   "cell_type": "markdown",
   "metadata": {
    "collapsed": true
   },
   "source": [
    "The horizontal bar plot with sorted values allows us to see the positive correlations and the negative  in an intuitive way. 'sat_score' correlates with itself so it shows a perfect positive value of 1. 'N_s' (Number of student respondents) and 'N_p' (Number of parent respondents) have the highest positive correlation. 'aca_s_11' (academic expectations based on student responses) has the next high correlation. This may indicate that a school who has high academic expectations from students tends to do better in the SATs.  'rr_t' (teacher response rate) and 'rr_s' (student response rate) show a negative correlation."
   ]
  },
  {
   "cell_type": "code",
   "execution_count": 13,
   "metadata": {},
   "outputs": [
    {
     "data": {
      "image/png": "[encoded data removed]",
      "text/plain": [
       "<Figure size 432x288 with 1 Axes>"
      ]
     },
     "metadata": {
      "needs_background": "light"
     },
     "output_type": "display_data"
    }
   ],
   "source": [
    "combined.plot.scatter('saf_s_11','sat_score')\n",
    "plt.show()"
   ]
  },
  {
   "cell_type": "markdown",
   "metadata": {},
   "source": [
    "The correlation between 'saf_s_11' (safety and respect student score) and the SAT scores shows that there could be a line going upward from left to right, indicating that when the sefety score rises, the SAT score also rises (positive correlation)"
   ]
  },
  {
   "cell_type": "code",
   "execution_count": 14,
   "metadata": {},
   "outputs": [
    {
     "name": "stderr",
     "output_type": "stream",
     "text": [
      "C:\\Users\\joman\\Anaconda3\\lib\\site-packages\\ipykernel_launcher.py:16: MatplotlibDeprecationWarning: \n",
      "The dedent function was deprecated in Matplotlib 3.1 and will be removed in 3.3. Use inspect.cleandoc instead.\n",
      "  app.launch_new_instance()\n",
      "C:\\Users\\joman\\Anaconda3\\lib\\site-packages\\ipykernel_launcher.py:21: MatplotlibDeprecationWarning: \n",
      "The dedent function was deprecated in Matplotlib 3.1 and will be removed in 3.3. Use inspect.cleandoc instead.\n"
     ]
    },
    {
     "data": {
      "image/png": "[encoded data removed]",
      "text/plain": [
       "<Figure size 432x288 with 2 Axes>"
      ]
     },
     "metadata": {
      "needs_background": "light"
     },
     "output_type": "display_data"
    }
   ],
   "source": [
    "districts_safety = combined.groupby(\"school_dist\").agg(numpy.mean)\n",
    "\n",
    "import os \n",
    "os.environ['PROJ_LIB'] = 'C:/Users/joman/Anaconda3/Lib/site-packages/mpl_toolkits/basemap'\n",
    "from mpl_toolkits.basemap import Basemap\n",
    "\n",
    "longitudes = districts_safety[\"lon\"].tolist()\n",
    "latitudes = districts_safety[\"lat\"].tolist()\n",
    "\n",
    "m = Basemap(\n",
    "    projection='merc', \n",
    "    llcrnrlat=40.496044, \n",
    "    urcrnrlat=40.915256, \n",
    "    llcrnrlon=-74.255735, \n",
    "    urcrnrlon=-73.700272,\n",
    "    resolution='i'\n",
    ")\n",
    "\n",
    "m.drawmapboundary(fill_color='#85A6D9')\n",
    "m.drawcoastlines(color='#6D5F47', linewidth=.4)\n",
    "m.drawrivers(color='#6D5F47', linewidth=.4)\n",
    "\n",
    "m.scatter(longitudes,latitudes,s=50,zorder=2,latlon=True,c=districts_safety[\"saf_s_11\"],cmap=\"summer\")\n",
    "plt.title(\"District Safety Perception\")\n",
    "plt.colorbar()\n",
    "plt.show()"
   ]
  },
  {
   "cell_type": "markdown",
   "metadata": {},
   "source": [
    "The places with a higher safety score are scattered around new york, but most seem to appear between Manhattan and Brooklyn. The lowest safety scores also appear in Brooklyn. Districts with a medium safety score appear in Staten Island and Queens."
   ]
  },
  {
   "cell_type": "code",
   "execution_count": 15,
   "metadata": {},
   "outputs": [
    {
     "data": {
      "image/png": "[encoded data removed]",
      "text/plain": [
       "<Figure size 432x288 with 1 Axes>"
      ]
     },
     "metadata": {
      "needs_background": "light"
     },
     "output_type": "display_data"
    }
   ],
   "source": [
    "race_corr_mask = ['sat_score','white_per','asian_per',\n",
    "                  'black_per','hispanic_per']\n",
    "race_corr = combined[race_corr_mask].corr()\n",
    "\n",
    "race_corr_y = numpy.arange(len(race_corr['sat_score'].index))\n",
    "race_corr_w = race_corr['sat_score'].sort_values().values\n",
    "\n",
    "plt.barh(race_corr_y,race_corr_w)\n",
    "plt.yticks(race_corr_y,race_corr['sat_score'].sort_values().index)\n",
    "plt.show()"
   ]
  },
  {
   "cell_type": "markdown",
   "metadata": {},
   "source": [
    "The SAT scores correlated to the race columns indicate that hispanic and black students have a negative correlation, while asian and white students have a strong positive correlation. This means that being black or hispanic can translate lower SAT scores."
   ]
  },
  {
   "cell_type": "code",
   "execution_count": 16,
   "metadata": {},
   "outputs": [
    {
     "data": {
      "image/png": "[encoded data removed]",
      "text/plain": [
       "<Figure size 432x288 with 1 Axes>"
      ]
     },
     "metadata": {
      "needs_background": "light"
     },
     "output_type": "display_data"
    }
   ],
   "source": [
    "low_sat = combined[(combined['sat_score']<950) & (combined['hispanic_per']>30)]\n",
    "\n",
    "low_sat.plot.scatter('hispanic_per','sat_score')\n",
    "plt.show()"
   ]
  },
  {
   "cell_type": "markdown",
   "metadata": {},
   "source": [
    "There are clearly 4 schools where the SATs are low (below 950) and the percentage of hispanic students is high (more than 30%). There is a trend showing that as the percentage of hispanic students increases, the SAT scores decrease, which indicates a negative correlation."
   ]
  },
  {
   "cell_type": "code",
   "execution_count": 17,
   "metadata": {},
   "outputs": [
    {
     "data": {
      "text/plain": [
       "44                         MANHATTAN BRIDGES HIGH SCHOOL\n",
       "82      WASHINGTON HEIGHTS EXPEDITIONARY LEARNING SCHOOL\n",
       "89     GREGORIO LUPERON HIGH SCHOOL FOR SCIENCE AND M...\n",
       "125                  ACADEMY FOR LANGUAGE AND TECHNOLOGY\n",
       "141                INTERNATIONAL SCHOOL FOR LIBERAL ARTS\n",
       "176     PAN AMERICAN INTERNATIONAL HIGH SCHOOL AT MONROE\n",
       "253                            MULTICULTURAL HIGH SCHOOL\n",
       "286               PAN AMERICAN INTERNATIONAL HIGH SCHOOL\n",
       "Name: SCHOOL NAME, dtype: object"
      ]
     },
     "execution_count": 17,
     "metadata": {},
     "output_type": "execute_result"
    }
   ],
   "source": [
    "combined[combined['hispanic_per']>95]['SCHOOL NAME']"
   ]
  },
  {
   "cell_type": "markdown",
   "metadata": {
    "collapsed": true
   },
   "source": [
    "We can learn further about these schools in the [NYC Dept. of Education](https://www.schools.nyc.gov/) website. The 8 schools above have more than 95% of hispanic students and 0% other races. Most students are also English language learners."
   ]
  },
  {
   "cell_type": "code",
   "execution_count": 18,
   "metadata": {},
   "outputs": [
    {
     "data": {
      "text/plain": [
       "37                                STUYVESANT HIGH SCHOOL\n",
       "151                         BRONX HIGH SCHOOL OF SCIENCE\n",
       "187                       BROOKLYN TECHNICAL HIGH SCHOOL\n",
       "327    QUEENS HIGH SCHOOL FOR THE SCIENCES AT YORK CO...\n",
       "356                  STATEN ISLAND TECHNICAL HIGH SCHOOL\n",
       "Name: SCHOOL NAME, dtype: object"
      ]
     },
     "execution_count": 18,
     "metadata": {},
     "output_type": "execute_result"
    }
   ],
   "source": [
    "combined[(combined['hispanic_per']<10) & (combined['sat_score']>1800)]['SCHOOL NAME']"
   ]
  },
  {
   "cell_type": "markdown",
   "metadata": {},
   "source": [
    "This set of schools with high SAT scores have mostly white and asian students. The English Language learners account for 0%."
   ]
  },
  {
   "cell_type": "code",
   "execution_count": 19,
   "metadata": {},
   "outputs": [
    {
     "data": {
      "image/png": "[encoded data removed]",
      "text/plain": [
       "<Figure size 432x288 with 1 Axes>"
      ]
     },
     "metadata": {
      "needs_background": "light"
     },
     "output_type": "display_data"
    }
   ],
   "source": [
    "gender_corr_mask = ['sat_score','male_per','female_per']\n",
    "gender_corr = combined[gender_corr_mask].corr()\n",
    "\n",
    "gender_corr_y = numpy.arange(len(gender_corr['sat_score'].index))\n",
    "gender_corr_w = gender_corr['sat_score'].sort_values().values\n",
    "\n",
    "plt.barh(gender_corr_y,gender_corr_w)\n",
    "plt.yticks(gender_corr_y,\n",
    "           gender_corr['sat_score'].sort_values().index)\n",
    "plt.show()\n",
    "                             "
   ]
  },
  {
   "cell_type": "markdown",
   "metadata": {},
   "source": [
    "Positive correlation for female students and negative for males. The correlations are not that strong regardless."
   ]
  },
  {
   "cell_type": "code",
   "execution_count": 20,
   "metadata": {},
   "outputs": [
    {
     "data": {
      "image/png": "[encoded data removed]",
      "text/plain": [
       "<Figure size 432x288 with 1 Axes>"
      ]
     },
     "metadata": {
      "needs_background": "light"
     },
     "output_type": "display_data"
    }
   ],
   "source": [
    "combined.plot.scatter('female_per','sat_score')\n",
    "plt.show()"
   ]
  },
  {
   "cell_type": "markdown",
   "metadata": {},
   "source": [
    "This plot shows that most schools with high female percentage do very well on SAT scores. The trend tends to go up as more female students seem to represent higher scores. Schools with the best scores seem to have around 50% female students."
   ]
  },
  {
   "cell_type": "code",
   "execution_count": 21,
   "metadata": {},
   "outputs": [
    {
     "data": {
      "text/plain": [
       "5                         BARD HIGH SCHOOL EARLY COLLEGE\n",
       "26                         ELEANOR ROOSEVELT HIGH SCHOOL\n",
       "60                                    BEACON HIGH SCHOOL\n",
       "61     FIORELLO H. LAGUARDIA HIGH SCHOOL OF MUSIC & A...\n",
       "302                          TOWNSEND HARRIS HIGH SCHOOL\n",
       "Name: SCHOOL NAME, dtype: object"
      ]
     },
     "execution_count": 21,
     "metadata": {},
     "output_type": "execute_result"
    }
   ],
   "source": [
    "combined[(combined['female_per']>60) & (combined['sat_score']>1700)]['SCHOOL NAME']"
   ]
  },
  {
   "cell_type": "markdown",
   "metadata": {},
   "source": [
    "Most of these 5 schools have a mayority of white students. Some of them rated low on trust according to the NYC Dept. of Education website."
   ]
  },
  {
   "cell_type": "code",
   "execution_count": 22,
   "metadata": {},
   "outputs": [
    {
     "data": {
      "image/png": "[encoded data removed]",
      "text/plain": [
       "<Figure size 432x288 with 1 Axes>"
      ]
     },
     "metadata": {
      "needs_background": "light"
     },
     "output_type": "display_data"
    }
   ],
   "source": [
    "combined['ap_per'] = (combined['AP Test Takers '] / combined['total_enrollment'])*100\n",
    "\n",
    "combined.plot.scatter('ap_per','sat_score')\n",
    "plt.show()"
   ]
  },
  {
   "cell_type": "markdown",
   "metadata": {},
   "source": [
    "As more students take AP tests, there's an increase in SAT scores. Yet, some shools with high AP test takers (above 60%) don't seem to have high scores."
   ]
  },
  {
   "cell_type": "code",
   "execution_count": 23,
   "metadata": {},
   "outputs": [
    {
     "data": {
      "image/png": "[encoded data removed]",
      "text/plain": [
       "<Figure size 432x288 with 1 Axes>"
      ]
     },
     "metadata": {
      "needs_background": "light"
     },
     "output_type": "display_data"
    },
    {
     "name": "stdout",
     "output_type": "stream",
     "text": [
      "Correlation of average class size is  0.3810143308095523 \n",
      "Correlation of number of students is 0.39462598144447314\n"
     ]
    }
   ],
   "source": [
    "class_size_corr = combined[['sat_score','AVERAGE CLASS SIZE','NUMBER OF STUDENTS / SEATS FILLED']].corr()\n",
    "\n",
    "class_size_corr_y = numpy.arange(len(class_size_corr['sat_score'].index))\n",
    "class_size_corr_w = class_size_corr['sat_score'].sort_values().values\n",
    "\n",
    "plt.barh(class_size_corr_y[:2], class_size_corr_w[:2]) #Index list so that sat_score wont appear with correlation 1\n",
    "plt.yticks(class_size_corr_y[:2],class_size_corr['sat_score'].sort_values().index[:2])\n",
    "plt.xlim(0,1)\n",
    "plt.title(\"SAT Score and Class Size/Number of Students Correlations\")\n",
    "plt.show()\n",
    "print(\"Correlation of average class size is \",class_size_corr_w[0],\"\\nCorrelation of number of students is\",\n",
    "      class_size_corr_w[1])"
   ]
  },
  {
   "cell_type": "code",
   "execution_count": 24,
   "metadata": {},
   "outputs": [
    {
     "data": {
      "image/png": "[encoded data removed]",
      "text/plain": [
       "<Figure size 432x288 with 1 Axes>"
      ]
     },
     "metadata": {
      "needs_background": "light"
     },
     "output_type": "display_data"
    }
   ],
   "source": [
    "combined.plot.scatter('AVERAGE CLASS SIZE','sat_score')\n",
    "plt.show()"
   ]
  },
  {
   "cell_type": "markdown",
   "metadata": {},
   "source": [
    "We can see here that, as the average class size increases, the SAT scores increase. The correlation coefficient is 0.38, which is pretty moderate. Correlations above 0.4 are usually strong."
   ]
  },
  {
   "cell_type": "markdown",
   "metadata": {},
   "source": [
    "### Neighborhoods with the Best Schools"
   ]
  },
  {
   "cell_type": "code",
   "execution_count": 25,
   "metadata": {},
   "outputs": [
    {
     "name": "stderr",
     "output_type": "stream",
     "text": [
      "C:\\Users\\joman\\Anaconda3\\lib\\site-packages\\pandas\\core\\generic.py:5079: FutureWarning: Attribute 'is_copy' is deprecated and will be removed in a future version.\n",
      "  object.__getattribute__(self, name)\n",
      "C:\\Users\\joman\\Anaconda3\\lib\\site-packages\\pandas\\core\\generic.py:5080: FutureWarning: Attribute 'is_copy' is deprecated and will be removed in a future version.\n",
      "  return object.__setattr__(self, name, value)\n",
      "C:\\Users\\joman\\Anaconda3\\lib\\site-packages\\ipykernel_launcher.py:16: MatplotlibDeprecationWarning: \n",
      "The dedent function was deprecated in Matplotlib 3.1 and will be removed in 3.3. Use inspect.cleandoc instead.\n",
      "  app.launch_new_instance()\n",
      "C:\\Users\\joman\\Anaconda3\\lib\\site-packages\\ipykernel_launcher.py:21: MatplotlibDeprecationWarning: \n",
      "The dedent function was deprecated in Matplotlib 3.1 and will be removed in 3.3. Use inspect.cleandoc instead.\n"
     ]
    },
    {
     "data": {
      "image/png": "[encoded data removed]",
      "text/plain": [
       "<Figure size 432x288 with 2 Axes>"
      ]
     },
     "metadata": {
      "needs_background": "light"
     },
     "output_type": "display_data"
    }
   ],
   "source": [
    "#Get the schools with score higher than 1500\n",
    "best_schools = combined[combined['sat_score']>1500]\n",
    "best_schools.is_copy = None #Use the is_copy property and set it to None to avoid a SettingWithCopyWarning\n",
    "\n",
    "#Get the longitudes and latitudes as list\n",
    "best_schools_lon =best_schools['lon'].tolist()\n",
    "best_schools_lat =best_schools['lat'].tolist()\n",
    "\n",
    "m2 = Basemap(\n",
    "    projection='merc', \n",
    "    llcrnrlat=40.496044, \n",
    "    urcrnrlat=40.915256, \n",
    "    llcrnrlon=-74.255735, \n",
    "    urcrnrlon=-73.700272,\n",
    "    resolution='i'\n",
    ")\n",
    "\n",
    "m2.drawmapboundary(fill_color='#85A6D9')\n",
    "m2.drawcoastlines(color='#6D5F47', linewidth=.4)\n",
    "m2.drawrivers(color='#6D5F47', linewidth=.4)\n",
    "\n",
    "m2.scatter(best_schools_lon,best_schools_lat,s=50,zorder=2,latlon=True,c=best_schools['sat_score'],cmap=\"summer\")\n",
    "plt.colorbar()\n",
    "plt.show()"
   ]
  },
  {
   "cell_type": "markdown",
   "metadata": {},
   "source": [
    "The best schools seem to appear at the center of the map, but we cannot say to which neighborhoods they belong. For that we'll use the coordinates that we already have and use a Python georeferencer like geopy to relate those values to a neighborhood from a list of NYC neighborhoods found in a web source."
   ]
  },
  {
   "cell_type": "code",
   "execution_count": 26,
   "metadata": {},
   "outputs": [
    {
     "data": {
      "text/plain": [
       "Location(322, West 48th Street, Hell's Kitchen, Manhattan Community Board 4, Manhattan, New York County, New York, 10036, United States of America, (40.761279900000005, -73.98818145, 0.0))"
      ]
     },
     "execution_count": 26,
     "metadata": {},
     "output_type": "execute_result"
    }
   ],
   "source": [
    "#For geopy to work, we need latitude and longitude coordinates in string form\n",
    "#So a new column will be created joinig the string version of 'lat' and 'lon'\n",
    "best_schools[\"coords\"] = best_schools.loc[:,\"lat\"].astype(str)+','+best_schools.loc[:,\"lon\"].astype(str)\n",
    "\n",
    "#Use the georeferencer and create an object\n",
    "from geopy.geocoders import Nominatim\n",
    "\n",
    "#Override the default user_agent parameter with a madeup one to prevent deprecation warning\n",
    "geolocator = Nominatim(user_agent='myapp/1',timeout = 7) #Increase timeout to avoid timeout error\n",
    "#If timeout parameter doesn't help, use the RateLimiter\n",
    "#This will allow multiple requests in case of timeouts\n",
    "from geopy.extra.rate_limiter import RateLimiter \n",
    "geocode = RateLimiter(geolocator.reverse, min_delay_seconds=1) #Create the object\n",
    "\n",
    "location_tuples = best_schools['coords'].apply(geocode) #Create a series with the applied function on 'coords'\n",
    "location = geolocator.reverse(\"40.761432699000466,-73.98802369799967\")#Create an example location to see if it works\n",
    "location"
   ]
  },
  {
   "cell_type": "markdown",
   "metadata": {},
   "source": [
    "We see we get a result with a complete location of a school, including the neighborhood (in this case the neighborhood is Hell's Kitchen). Now let's scale this to use it on all the schools."
   ]
  },
  {
   "cell_type": "code",
   "execution_count": 27,
   "metadata": {},
   "outputs": [
    {
     "data": {
      "text/plain": [
       "4     [Columbia Street, Lower East Side, Manhattan C...\n",
       "5     [525, East Houston Street, Lower East Side, Ma...\n",
       "22    [West 48th Street, Hell's Kitchen, Manhattan C...\n",
       "23          [55, West 25th Street, Penn South, Chelsea]\n",
       "24    [8th Avenue, Chelsea, Manhattan Community Boar...\n",
       "Name: coords, dtype: object"
      ]
     },
     "execution_count": 27,
     "metadata": {},
     "output_type": "execute_result"
    }
   ],
   "source": [
    "#Create a new series that will show a cleaned version of the above results\n",
    "#The results don't locate the neighborhood name in the same position, \n",
    "#by trial and error the neighborhood name was located in between the 2nd and 4th position, hence slice [1:5]\n",
    "inter_neighborhd = location_tuples.apply(lambda x: x[0].split(', ')[1:5])\n",
    "inter_neighborhd.head()"
   ]
  },
  {
   "cell_type": "code",
   "execution_count": 28,
   "metadata": {},
   "outputs": [
    {
     "data": {
      "text/plain": [
       "['Melrose', 'Mott Haven', 'Port Morris', 'Hunts Point', 'Longwood']"
      ]
     },
     "execution_count": 28,
     "metadata": {},
     "output_type": "execute_result"
    }
   ],
   "source": [
    "#Get list of NY neighborhoods by scrapping the Wikipedia page containing a table of all neighborhoods\n",
    "from urllib.request import urlopen\n",
    "from bs4 import BeautifulSoup\n",
    "\n",
    "url_NYnh = \"https://en.wikipedia.org/wiki/Neighborhoods_in_New_York_City\" #page url\n",
    "\n",
    "html_NYnh = urlopen(url_NYnh)\n",
    "\n",
    "NYnh = BeautifulSoup(html_NYnh, 'lxml')\n",
    "\n",
    "def GetandCleanRows(soup_object):\n",
    "    '''Utility function to get rows from a table in the website'''\n",
    "\n",
    "    rows = soup_object.find_all('tr') #Get all rows in table\n",
    "    row_list = []\n",
    "    for row in rows: \n",
    "        str_cells = str(row.find_all('td')) #Convert each row into a string\n",
    "        cleantext = BeautifulSoup(str_cells, \"lxml\").get_text() #Get just the text and remove all html syntax\n",
    "        row_list.append(cleantext)\n",
    "    return row_list\n",
    "\n",
    "NYnh_list = GetandCleanRows(NYnh)\n",
    "#Create a pandas dataframe, only rows 1 to 60 have relevant info\n",
    "NY_neighborhoods_df = pd.DataFrame(NYnh_list[1:60]) \n",
    "\n",
    "import re\n",
    "def getNY_Neighborhoods(s):\n",
    "    '''Function to apply to dataframe, to get just the neighborhood name from string'''\n",
    "    split = re.split(', |\\n]',s)\n",
    "    return split[4:-1]\n",
    "\n",
    "#Create new series with results from the getNeighborhood() function\n",
    "NY_neighborhoods_series = NY_neighborhoods_df[0].apply(getNY_Neighborhoods) #Apply to column 0\n",
    "#Create a unique list of neighborhoods by joining all separate lists\n",
    "NY_neighborhoods = []\n",
    "for n in NY_neighborhoods_series:\n",
    "    NY_neighborhoods += n\n",
    "\n",
    "NY_neighborhoods[:5]"
   ]
  },
  {
   "cell_type": "code",
   "execution_count": 29,
   "metadata": {},
   "outputs": [
    {
     "data": {
      "text/plain": [
       "4     Lower East Side\n",
       "5     Lower East Side\n",
       "22     Hell's Kitchen\n",
       "23            Chelsea\n",
       "24            Chelsea\n",
       "Name: Neighborhood, dtype: object"
      ]
     },
     "execution_count": 29,
     "metadata": {},
     "output_type": "execute_result"
    }
   ],
   "source": [
    "#create the function to select the neighborhood from the list of neighborhood\n",
    "def getSchoolNeighborhood(s):\n",
    "    '''Function to get the neighborhood of the school by\n",
    "    matching the contents of inter_neighborhd with the list of all neighborhoods\n",
    "    s: a list of 4 items where one of the items is the neighborhood name'''\n",
    "    for i in s:\n",
    "        if i in NY_neighborhoods:\n",
    "            return i\n",
    "    else:\n",
    "        return s\n",
    "\n",
    "best_schools['Neighborhood'] = inter_neighborhd.apply(getSchoolNeighborhood)\n",
    "best_schools['Neighborhood'].head()"
   ]
  },
  {
   "cell_type": "markdown",
   "metadata": {},
   "source": [
    "Now we can get a list of the neighborhoods with the best schools according to SAT score averages. As shown in the map, most of this neighborhoods are in Manhattan."
   ]
  },
  {
   "cell_type": "code",
   "execution_count": 30,
   "metadata": {},
   "outputs": [
    {
     "name": "stdout",
     "output_type": "stream",
     "text": [
      "1 - Battery Park City\n",
      "2 - Bedford Park\n",
      "3 - Oakwood\n",
      "4 - Kingsbridge Heights\n",
      "5 - Pomonok\n",
      "6 - Jamaica\n",
      "7 - Lower East Side\n",
      "8 - Hamilton Heights\n",
      "9 - Fort Greene\n",
      "10 - Upper East Side\n",
      "11 - Lincoln Square\n",
      "12 - Williamsburg Houses\n",
      "13 - Chelsea\n",
      "14 - Sunnyside\n",
      "15 - Sunnyside Gardens\n",
      "16 - Sheepshead Bay\n",
      "17 - Financial District\n",
      "18 - Utopia\n",
      "19 - Seaside\n",
      "20 - Hell's Kitchen\n",
      "21 - Oakland Gardens\n"
     ]
    }
   ],
   "source": [
    "#Sort the dataframe according to SAT average score in descending order (High scores first)\n",
    "#then get the unique values\n",
    "top_neighborhoods = best_schools.sort_values(axis=0,by='sat_score',ascending=False)['Neighborhood'].unique()\n",
    "for i in range(len(top_neighborhoods)):\n",
    "    print(i+1,'-',top_neighborhoods[i])"
   ]
  },
  {
   "cell_type": "markdown",
   "metadata": {},
   "source": [
    "## Investigating the differences between parent, teacher, and student responses to surveys."
   ]
  },
  {
   "cell_type": "code",
   "execution_count": 31,
   "metadata": {},
   "outputs": [
    {
     "data": {
      "text/plain": [
       "Index(['rr_s', 'rr_t', 'rr_p', 'N_s', 'N_t', 'N_p', 'saf_p_11', 'com_p_11',\n",
       "       'eng_p_11', 'aca_p_11', 'saf_t_11', 'com_t_11', 'eng_t_11', 'aca_t_11',\n",
       "       'saf_s_11', 'com_s_11', 'eng_s_11', 'aca_s_11', 'saf_tot_11',\n",
       "       'com_tot_11', 'eng_tot_11', 'aca_tot_11'],\n",
       "      dtype='object')"
      ]
     },
     "execution_count": 31,
     "metadata": {},
     "output_type": "execute_result"
    }
   ],
   "source": [
    "survey_responses = combined[survey_fields]\n",
    "survey_cols = survey_responses.columns #Get the names of the columns\n",
    "survey_cols"
   ]
  },
  {
   "cell_type": "code",
   "execution_count": 32,
   "metadata": {},
   "outputs": [
    {
     "data": {
      "image/png": "[encoded data removed]",
      "text/plain": [
       "<Figure size 864x576 with 6 Axes>"
      ]
     },
     "metadata": {
      "needs_background": "light"
     },
     "output_type": "display_data"
    }
   ],
   "source": [
    "#Use regex to filter by survey and create dictionary\n",
    "surv_patterns = {'rr_pattern' : r\"rr_\",\n",
    "                 'N_pattern' : r\"N_\",\n",
    "                 'saf_pattern':r\"saf_(?!tot)\", #Get all surveys starting with 'saf_' but negative lookahead of 'tot'\n",
    "                 'com_pattern':r\"com_(?!tot)\",\n",
    "                 'eng_pattern':r\"eng_(?!tot)\",\n",
    "                 'aca_pattern':r\"aca_(?!tot)\"}\n",
    "\n",
    "#Create subplots, 2 rows, 3 columns \n",
    "fig, axes = plt.subplots(2, 3,sharex=False,figsize=(12,8))#dont share x-axis\n",
    "plt.subplots_adjust(right=1.3) #Modify the margins of the subplots so they don't overlap\n",
    "\n",
    "#import itertools product to create the row,column combinations for the subplots\n",
    "from itertools import product  \n",
    "row_column = list(product([0,1,2],repeat=2))\n",
    "position = 0\n",
    "\n",
    "for i in surv_patterns:\n",
    "    survey_filter = survey_cols.str.match(surv_patterns[i]) #Use match to match the patterns created in dictionary\n",
    "    f = survey_responses[survey_cols[survey_filter]].mean() #Get the means of each column by respondent\n",
    "    axes[row_column[position][0],row_column[position][1]].barh(f.index,f.values)\n",
    "    axes[row_column[position][0],row_column[position][1]].set_title(i[:-8]) #Set the titles same as dict keys\n",
    "    position += 1\n"
   ]
  },
  {
   "cell_type": "markdown",
   "metadata": {},
   "source": [
    "Looking at the plots, we can see differences among the responses given depending if the respondent was a parent, student or teacher. In the first plot, for the survey 'rr' (Response Rate) we see the average response rate for the parents was half lower than that of teachers and students. The 'N' (Number of Respondents) shows that the average number of respondent was higher for students and parents, but no for teachers. The next plot, 'saf'(Safety and Respect Score), shows that the average score given by parents is higher than the one given by teachers or students. In the next 3 surveys (Communication, Engagement and Academic Expectation) the average scores given rank similar among the 3 types of respondents, with students always giving a lower average score and parents giving a higher one."
   ]
  },
  {
   "cell_type": "code",
   "execution_count": null,
   "metadata": {},
   "outputs": [],
   "source": []
  }
 ],
 "metadata": {
  "kernelspec": {
   "display_name": "Python 3",
   "language": "python",
   "name": "python3"
  },
  "language_info": {
   "codemirror_mode": {
    "name": "ipython",
    "version": 3
   },
   "file_extension": ".py",
   "mimetype": "text/x-python",
   "name": "python",
   "nbconvert_exporter": "python",
   "pygments_lexer": "ipython3",
   "version": "3.7.4"
  }
 },
 "nbformat": 4,
 "nbformat_minor": 2
}
